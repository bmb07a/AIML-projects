{
  "nbformat": 4,
  "nbformat_minor": 0,
  "metadata": {
    "colab": {
      "name": "Project - Twitter US Airline Sentiment - Brandon Bowen.ipynb",
      "provenance": [],
      "collapsed_sections": []
    },
    "kernelspec": {
      "name": "python3",
      "display_name": "Python 3"
    },
    "language_info": {
      "name": "python"
    }
  },
  "cells": [
    {
      "cell_type": "markdown",
      "metadata": {
        "id": "BFaqeH75un_H"
      },
      "source": [
        "# Project - Twitter US Airline Sentiment"
      ]
    },
    {
      "cell_type": "markdown",
      "metadata": {
        "id": "Dei3HrO7uHmu"
      },
      "source": [
        "**Background and Context:**\n",
        "\n",
        "Twitter posses 330 million monthly active users, which allows businesses to reach a broad population and connect with customers without intermediaries. On the other side, there’s so much information that it’s difficult for brands to quickly detect negative social mentions that could harm their business.\n",
        "\n",
        "That's why sentiment analysis/classification, which involves monitoring emotions in conversations on social media platforms, has become a key strategy in social media marketing.\n",
        "\n",
        "\n",
        "Listening to how customers feel about the product/services on Twitter allows companies to understand their audience, keep on top of what’s being said about their brand and their competitors, and discover new trends in the industry.\n",
        "\n",
        " \n",
        "\n",
        "**Data Description:**\n",
        "\n",
        "A sentiment analysis job about the problems of each major US airline. Twitter data was scraped from February of 2015 and contributors were asked to first classify positive, negative, and neutral tweets, followed by categorizing negative reasons (such as \"late flight\" or \"rude service\").\n",
        "\n",
        " \n",
        "\n",
        "**Dataset:**\n",
        "\n",
        "The dataset has the following columns:\n",
        "\n",
        "- tweet_id                                                           \n",
        "- airline_sentiment                                               \n",
        "- airline_sentiment_confidence                               \n",
        "- negativereason                                                   \n",
        "- negativereason_confidence                                    \n",
        "- airline                                                                   \n",
        "- airline_sentiment_gold                                              \n",
        "- name     \n",
        "- negativereason_gold \n",
        "- retweet_count\n",
        "- text\n",
        "- tweet_coord\n",
        "- tweet_created\n",
        "- tweet_location \n",
        "- user_timezone\n",
        "\n",
        "\n",
        "**Objective:**\n",
        "\n",
        "To implement the techniques learned as a part of the course."
      ]
    },
    {
      "cell_type": "markdown",
      "metadata": {
        "id": "PxHfjbMgvCvp"
      },
      "source": [
        "# 1. Importing Libraries and Loading the Dataset"
      ]
    },
    {
      "cell_type": "markdown",
      "metadata": {
        "id": "QZvqZURs7l2k"
      },
      "source": [
        "**Connecting to Google Drive**"
      ]
    },
    {
      "cell_type": "code",
      "metadata": {
        "id": "FC1eBil6vRO6"
      },
      "source": [
        "from google.colab import drive  # Libary to access the user's Google Drive folders and files"
      ],
      "execution_count": null,
      "outputs": []
    },
    {
      "cell_type": "code",
      "metadata": {
        "colab": {
          "base_uri": "https://localhost:8080/"
        },
        "id": "vrZoYpRdvYde",
        "outputId": "17c3d7c2-4b89-4c33-bd44-bde75919ad10"
      },
      "source": [
        "drive.mount(\"/content/drive\")   # Linking to the user's Google Drive"
      ],
      "execution_count": null,
      "outputs": [
        {
          "output_type": "stream",
          "text": [
            "Drive already mounted at /content/drive; to attempt to forcibly remount, call drive.mount(\"/content/drive\", force_remount=True).\n"
          ],
          "name": "stdout"
        }
      ]
    },
    {
      "cell_type": "code",
      "metadata": {
        "colab": {
          "base_uri": "https://localhost:8080/"
        },
        "id": "qCC4Gh9Qvduj",
        "outputId": "40b8f3bd-53e0-4dac-cd27-ac8ef0ec80c0"
      },
      "source": [
        "# Libraries for manipulating numbers, datasets and displaying graphs\n",
        "import numpy as np\n",
        "import pandas as pd\n",
        "import matplotlib.pyplot as plt\n",
        "import seaborn as sns\n",
        "\n",
        "!pip install contractions                         # installing library to remove contractions\n",
        "\n",
        "import contractions                               # library for removing contractions\n",
        "import re                                         # regular expression library\n",
        "import unicodedata                                # library for removing special characters\n",
        "\n",
        "from bs4 import BeautifulSoup                     # library for removing html tags\n",
        "import nltk                                       # library for NLP\n",
        "from nltk.tokenize import word_tokenize           # library for splitting text blocks into words\n",
        "from nltk.corpus import stopwords                 # library for stop words\n",
        "from nltk.corpus import wordnet                   # library for parts of speech\n",
        "from nltk.stem.wordnet import WordNetLemmatizer   # library for lemmatizing words\n",
        "\n",
        "from sklearn.feature_extraction.text import CountVectorizer, TfidfVectorizer  # libraries to transform words into vectors\n",
        "from sklearn.model_selection import train_test_split                          # library to divide data into training and testing\n",
        "from sklearn.metrics import confusion_matrix, classification_report           # library to summarize model performance per class\n",
        "\n",
        "nltk.download(\"punkt\")                            # downloading necessary library dictionaries\n",
        "nltk.download(\"stopwords\")                        # downloading english stop words\n",
        "nltk.download('averaged_perceptron_tagger')       # downloading the parts of speech\n",
        "nltk.download(\"wordnet\")                          # downaloading wordnet\n",
        "\n",
        "from tensorflow.keras.models import Sequential                                                    # Basic wrapper to build model inside\n",
        "from tensorflow.keras.layers import Dense, Dropout                                                # Dense layer is for the ANN , Dropout used to control overfitting\n",
        "from tensorflow.keras.utils import to_categorical                                                 # Function to convert the categorical target classes into tensors for the neural network\n",
        "from tensorflow.keras.callbacks import ModelCheckpoint, EarlyStopping                             # Used to control overfitting and store the best model during the epochs of training\n",
        "from tensorflow.keras import backend                                                              # Used to clear memory (RAM)\n",
        "\n",
        "# Seeding the random number generator to ensure the model building process is repeatable\n",
        "import random\n",
        "random.seed(0)  # The number zero is not special, basically any integer works\n",
        "\n",
        "# Library to over sample the data in order to balance the target classes\n",
        "from imblearn.over_sampling import SMOTE\n",
        "\n",
        "# Command for the notebook to display graphs (in this case images) in the notebook\n",
        "%matplotlib inline\n",
        "sns.set(color_codes=True)"
      ],
      "execution_count": null,
      "outputs": [
        {
          "output_type": "stream",
          "text": [
            "Requirement already satisfied: contractions in /usr/local/lib/python3.7/dist-packages (0.0.52)\n",
            "Requirement already satisfied: textsearch>=0.0.21 in /usr/local/lib/python3.7/dist-packages (from contractions) (0.0.21)\n",
            "Requirement already satisfied: anyascii in /usr/local/lib/python3.7/dist-packages (from textsearch>=0.0.21->contractions) (0.2.0)\n",
            "Requirement already satisfied: pyahocorasick in /usr/local/lib/python3.7/dist-packages (from textsearch>=0.0.21->contractions) (1.4.2)\n",
            "[nltk_data] Downloading package punkt to /root/nltk_data...\n",
            "[nltk_data]   Package punkt is already up-to-date!\n",
            "[nltk_data] Downloading package stopwords to /root/nltk_data...\n",
            "[nltk_data]   Package stopwords is already up-to-date!\n",
            "[nltk_data] Downloading package averaged_perceptron_tagger to\n",
            "[nltk_data]     /root/nltk_data...\n",
            "[nltk_data]   Package averaged_perceptron_tagger is already up-to-\n",
            "[nltk_data]       date!\n",
            "[nltk_data] Downloading package wordnet to /root/nltk_data...\n",
            "[nltk_data]   Package wordnet is already up-to-date!\n"
          ],
          "name": "stdout"
        },
        {
          "output_type": "stream",
          "text": [
            "/usr/local/lib/python3.7/dist-packages/sklearn/externals/six.py:31: FutureWarning: The module is deprecated in version 0.21 and will be removed in version 0.23 since we've dropped support for Python 2.7. Please rely on the official version of six (https://pypi.org/project/six/).\n",
            "  \"(https://pypi.org/project/six/).\", FutureWarning)\n",
            "/usr/local/lib/python3.7/dist-packages/sklearn/utils/deprecation.py:144: FutureWarning: The sklearn.neighbors.base module is  deprecated in version 0.22 and will be removed in version 0.24. The corresponding classes / functions should instead be imported from sklearn.neighbors. Anything that cannot be imported from sklearn.neighbors is now part of the private API.\n",
            "  warnings.warn(message, FutureWarning)\n"
          ],
          "name": "stderr"
        }
      ]
    },
    {
      "cell_type": "code",
      "metadata": {
        "id": "ORgYgPuovpyU"
      },
      "source": [
        "airData = pd.read_csv(\"/content/drive/My Drive/AIML/8.0/Week 3 Project/Tweets.csv\")   # loading the dataset"
      ],
      "execution_count": null,
      "outputs": []
    },
    {
      "cell_type": "code",
      "metadata": {
        "colab": {
          "base_uri": "https://localhost:8080/"
        },
        "id": "seF1nlWNwHUp",
        "outputId": "249f5021-511c-455a-8242-109b8d8c89f0"
      },
      "source": [
        "airData.shape   # displaying the shape of the dataset"
      ],
      "execution_count": null,
      "outputs": [
        {
          "output_type": "execute_result",
          "data": {
            "text/plain": [
              "(14640, 15)"
            ]
          },
          "metadata": {
            "tags": []
          },
          "execution_count": 5
        }
      ]
    },
    {
      "cell_type": "markdown",
      "metadata": {
        "id": "yZ7uzcYk8oPp"
      },
      "source": [
        "There are 14,640 tweets in the dataset with 15 different columns."
      ]
    },
    {
      "cell_type": "code",
      "metadata": {
        "colab": {
          "base_uri": "https://localhost:8080/",
          "height": 173
        },
        "id": "c5QPfQvSwgVg",
        "outputId": "be3cf2dc-7348-4995-f224-bc778e5f3cfb"
      },
      "source": [
        "airData.describe().T    # displaying summary information of the dataset for columns containing numbers"
      ],
      "execution_count": null,
      "outputs": [
        {
          "output_type": "execute_result",
          "data": {
            "text/html": [
              "<div>\n",
              "<style scoped>\n",
              "    .dataframe tbody tr th:only-of-type {\n",
              "        vertical-align: middle;\n",
              "    }\n",
              "\n",
              "    .dataframe tbody tr th {\n",
              "        vertical-align: top;\n",
              "    }\n",
              "\n",
              "    .dataframe thead th {\n",
              "        text-align: right;\n",
              "    }\n",
              "</style>\n",
              "<table border=\"1\" class=\"dataframe\">\n",
              "  <thead>\n",
              "    <tr style=\"text-align: right;\">\n",
              "      <th></th>\n",
              "      <th>count</th>\n",
              "      <th>mean</th>\n",
              "      <th>std</th>\n",
              "      <th>min</th>\n",
              "      <th>25%</th>\n",
              "      <th>50%</th>\n",
              "      <th>75%</th>\n",
              "      <th>max</th>\n",
              "    </tr>\n",
              "  </thead>\n",
              "  <tbody>\n",
              "    <tr>\n",
              "      <th>tweet_id</th>\n",
              "      <td>14640.0</td>\n",
              "      <td>5.692184e+17</td>\n",
              "      <td>7.791112e+14</td>\n",
              "      <td>5.675883e+17</td>\n",
              "      <td>5.685592e+17</td>\n",
              "      <td>5.694779e+17</td>\n",
              "      <td>5.698905e+17</td>\n",
              "      <td>5.703106e+17</td>\n",
              "    </tr>\n",
              "    <tr>\n",
              "      <th>airline_sentiment_confidence</th>\n",
              "      <td>14640.0</td>\n",
              "      <td>9.001689e-01</td>\n",
              "      <td>1.628300e-01</td>\n",
              "      <td>3.350000e-01</td>\n",
              "      <td>6.923000e-01</td>\n",
              "      <td>1.000000e+00</td>\n",
              "      <td>1.000000e+00</td>\n",
              "      <td>1.000000e+00</td>\n",
              "    </tr>\n",
              "    <tr>\n",
              "      <th>negativereason_confidence</th>\n",
              "      <td>10522.0</td>\n",
              "      <td>6.382983e-01</td>\n",
              "      <td>3.304398e-01</td>\n",
              "      <td>0.000000e+00</td>\n",
              "      <td>3.606000e-01</td>\n",
              "      <td>6.706000e-01</td>\n",
              "      <td>1.000000e+00</td>\n",
              "      <td>1.000000e+00</td>\n",
              "    </tr>\n",
              "    <tr>\n",
              "      <th>retweet_count</th>\n",
              "      <td>14640.0</td>\n",
              "      <td>8.265027e-02</td>\n",
              "      <td>7.457782e-01</td>\n",
              "      <td>0.000000e+00</td>\n",
              "      <td>0.000000e+00</td>\n",
              "      <td>0.000000e+00</td>\n",
              "      <td>0.000000e+00</td>\n",
              "      <td>4.400000e+01</td>\n",
              "    </tr>\n",
              "  </tbody>\n",
              "</table>\n",
              "</div>"
            ],
            "text/plain": [
              "                                count          mean  ...           75%           max\n",
              "tweet_id                      14640.0  5.692184e+17  ...  5.698905e+17  5.703106e+17\n",
              "airline_sentiment_confidence  14640.0  9.001689e-01  ...  1.000000e+00  1.000000e+00\n",
              "negativereason_confidence     10522.0  6.382983e-01  ...  1.000000e+00  1.000000e+00\n",
              "retweet_count                 14640.0  8.265027e-02  ...  0.000000e+00  4.400000e+01\n",
              "\n",
              "[4 rows x 8 columns]"
            ]
          },
          "metadata": {
            "tags": []
          },
          "execution_count": 6
        }
      ]
    },
    {
      "cell_type": "markdown",
      "metadata": {
        "id": "H2FT1lQd8yOQ"
      },
      "source": [
        "- `tweet_id` does not contain any useful information and will be dropped further on.\n",
        "- Airline sentiment confidence is high with a mean of 0.9 (closer to 1 is better).\n",
        "- Negative reason confidence is mediocre at a mean of 0.63.\n",
        "- At least 75% of tweets had no retweets."
      ]
    },
    {
      "cell_type": "code",
      "metadata": {
        "colab": {
          "base_uri": "https://localhost:8080/",
          "height": 390
        },
        "id": "A20hrxmvwioM",
        "outputId": "09922f7b-ca90-4ee1-dfee-322e2f4c3221"
      },
      "source": [
        "airData.describe(include=\"O\").T   # displaying summary information of the dataset for columns containing words"
      ],
      "execution_count": null,
      "outputs": [
        {
          "output_type": "execute_result",
          "data": {
            "text/html": [
              "<div>\n",
              "<style scoped>\n",
              "    .dataframe tbody tr th:only-of-type {\n",
              "        vertical-align: middle;\n",
              "    }\n",
              "\n",
              "    .dataframe tbody tr th {\n",
              "        vertical-align: top;\n",
              "    }\n",
              "\n",
              "    .dataframe thead th {\n",
              "        text-align: right;\n",
              "    }\n",
              "</style>\n",
              "<table border=\"1\" class=\"dataframe\">\n",
              "  <thead>\n",
              "    <tr style=\"text-align: right;\">\n",
              "      <th></th>\n",
              "      <th>count</th>\n",
              "      <th>unique</th>\n",
              "      <th>top</th>\n",
              "      <th>freq</th>\n",
              "    </tr>\n",
              "  </thead>\n",
              "  <tbody>\n",
              "    <tr>\n",
              "      <th>airline_sentiment</th>\n",
              "      <td>14640</td>\n",
              "      <td>3</td>\n",
              "      <td>negative</td>\n",
              "      <td>9178</td>\n",
              "    </tr>\n",
              "    <tr>\n",
              "      <th>negativereason</th>\n",
              "      <td>9178</td>\n",
              "      <td>10</td>\n",
              "      <td>Customer Service Issue</td>\n",
              "      <td>2910</td>\n",
              "    </tr>\n",
              "    <tr>\n",
              "      <th>airline</th>\n",
              "      <td>14640</td>\n",
              "      <td>6</td>\n",
              "      <td>United</td>\n",
              "      <td>3822</td>\n",
              "    </tr>\n",
              "    <tr>\n",
              "      <th>airline_sentiment_gold</th>\n",
              "      <td>40</td>\n",
              "      <td>3</td>\n",
              "      <td>negative</td>\n",
              "      <td>32</td>\n",
              "    </tr>\n",
              "    <tr>\n",
              "      <th>name</th>\n",
              "      <td>14640</td>\n",
              "      <td>7701</td>\n",
              "      <td>JetBlueNews</td>\n",
              "      <td>63</td>\n",
              "    </tr>\n",
              "    <tr>\n",
              "      <th>negativereason_gold</th>\n",
              "      <td>32</td>\n",
              "      <td>13</td>\n",
              "      <td>Customer Service Issue</td>\n",
              "      <td>12</td>\n",
              "    </tr>\n",
              "    <tr>\n",
              "      <th>text</th>\n",
              "      <td>14640</td>\n",
              "      <td>14427</td>\n",
              "      <td>@united thanks</td>\n",
              "      <td>6</td>\n",
              "    </tr>\n",
              "    <tr>\n",
              "      <th>tweet_coord</th>\n",
              "      <td>1019</td>\n",
              "      <td>832</td>\n",
              "      <td>[0.0, 0.0]</td>\n",
              "      <td>164</td>\n",
              "    </tr>\n",
              "    <tr>\n",
              "      <th>tweet_created</th>\n",
              "      <td>14640</td>\n",
              "      <td>14247</td>\n",
              "      <td>2015-02-24 09:54:34 -0800</td>\n",
              "      <td>5</td>\n",
              "    </tr>\n",
              "    <tr>\n",
              "      <th>tweet_location</th>\n",
              "      <td>9907</td>\n",
              "      <td>3081</td>\n",
              "      <td>Boston, MA</td>\n",
              "      <td>157</td>\n",
              "    </tr>\n",
              "    <tr>\n",
              "      <th>user_timezone</th>\n",
              "      <td>9820</td>\n",
              "      <td>85</td>\n",
              "      <td>Eastern Time (US &amp; Canada)</td>\n",
              "      <td>3744</td>\n",
              "    </tr>\n",
              "  </tbody>\n",
              "</table>\n",
              "</div>"
            ],
            "text/plain": [
              "                        count unique                         top  freq\n",
              "airline_sentiment       14640      3                    negative  9178\n",
              "negativereason           9178     10      Customer Service Issue  2910\n",
              "airline                 14640      6                      United  3822\n",
              "airline_sentiment_gold     40      3                    negative    32\n",
              "name                    14640   7701                 JetBlueNews    63\n",
              "negativereason_gold        32     13      Customer Service Issue    12\n",
              "text                    14640  14427              @united thanks     6\n",
              "tweet_coord              1019    832                  [0.0, 0.0]   164\n",
              "tweet_created           14640  14247   2015-02-24 09:54:34 -0800     5\n",
              "tweet_location           9907   3081                  Boston, MA   157\n",
              "user_timezone            9820     85  Eastern Time (US & Canada)  3744"
            ]
          },
          "metadata": {
            "tags": []
          },
          "execution_count": 7
        }
      ]
    },
    {
      "cell_type": "markdown",
      "metadata": {
        "id": "qMijAEj7FUe3"
      },
      "source": [
        "- The majority of the tweets are negative in sentiment.\n",
        "  - This means our target class is unbalanced which we will deal with later on.\n",
        "- Customers listed customer service as the most frequent reason for their negative sentiment.\n",
        "- United airlines has the most tweets of any airline in this dataset.\n",
        "- Tweet meta data does not seem to be helpful based on the number of missing values or values of zero."
      ]
    },
    {
      "cell_type": "markdown",
      "metadata": {
        "id": "hzigohCDwr3K"
      },
      "source": [
        "# 2. Brief View of the Data"
      ]
    },
    {
      "cell_type": "markdown",
      "metadata": {
        "id": "F64MwGyexOBQ"
      },
      "source": [
        "a. Dropping all columns except `text` and `airline_sentiment`"
      ]
    },
    {
      "cell_type": "code",
      "metadata": {
        "id": "IILs-FWixHV9"
      },
      "source": [
        "airData = airData[[\"text\", \"airline_sentiment\"]]    # Grabbing only the two columns we care about"
      ],
      "execution_count": null,
      "outputs": []
    },
    {
      "cell_type": "markdown",
      "metadata": {
        "id": "k5vLnv-txgNP"
      },
      "source": [
        "b. The new shape of the data"
      ]
    },
    {
      "cell_type": "code",
      "metadata": {
        "colab": {
          "base_uri": "https://localhost:8080/"
        },
        "id": "mH4Rqf-Axled",
        "outputId": "c2863108-6c32-455b-aa2b-d146c18b34e4"
      },
      "source": [
        "airData.shape   # printing the shape of the reduced data"
      ],
      "execution_count": null,
      "outputs": [
        {
          "output_type": "execute_result",
          "data": {
            "text/plain": [
              "(14640, 2)"
            ]
          },
          "metadata": {
            "tags": []
          },
          "execution_count": 9
        }
      ]
    },
    {
      "cell_type": "markdown",
      "metadata": {
        "id": "F8OgD2aUGU2G"
      },
      "source": [
        "We are now down to only two columns."
      ]
    },
    {
      "cell_type": "markdown",
      "metadata": {
        "id": "XIVtML0xxofY"
      },
      "source": [
        "c. Viewing the first five rows"
      ]
    },
    {
      "cell_type": "code",
      "metadata": {
        "colab": {
          "base_uri": "https://localhost:8080/",
          "height": 204
        },
        "id": "OdA451MRxtKc",
        "outputId": "4dc1b05e-a2d5-484f-d855-1e9c12cac512"
      },
      "source": [
        "airData.head()"
      ],
      "execution_count": null,
      "outputs": [
        {
          "output_type": "execute_result",
          "data": {
            "text/html": [
              "<div>\n",
              "<style scoped>\n",
              "    .dataframe tbody tr th:only-of-type {\n",
              "        vertical-align: middle;\n",
              "    }\n",
              "\n",
              "    .dataframe tbody tr th {\n",
              "        vertical-align: top;\n",
              "    }\n",
              "\n",
              "    .dataframe thead th {\n",
              "        text-align: right;\n",
              "    }\n",
              "</style>\n",
              "<table border=\"1\" class=\"dataframe\">\n",
              "  <thead>\n",
              "    <tr style=\"text-align: right;\">\n",
              "      <th></th>\n",
              "      <th>text</th>\n",
              "      <th>airline_sentiment</th>\n",
              "    </tr>\n",
              "  </thead>\n",
              "  <tbody>\n",
              "    <tr>\n",
              "      <th>0</th>\n",
              "      <td>@VirginAmerica What @dhepburn said.</td>\n",
              "      <td>neutral</td>\n",
              "    </tr>\n",
              "    <tr>\n",
              "      <th>1</th>\n",
              "      <td>@VirginAmerica plus you've added commercials t...</td>\n",
              "      <td>positive</td>\n",
              "    </tr>\n",
              "    <tr>\n",
              "      <th>2</th>\n",
              "      <td>@VirginAmerica I didn't today... Must mean I n...</td>\n",
              "      <td>neutral</td>\n",
              "    </tr>\n",
              "    <tr>\n",
              "      <th>3</th>\n",
              "      <td>@VirginAmerica it's really aggressive to blast...</td>\n",
              "      <td>negative</td>\n",
              "    </tr>\n",
              "    <tr>\n",
              "      <th>4</th>\n",
              "      <td>@VirginAmerica and it's a really big bad thing...</td>\n",
              "      <td>negative</td>\n",
              "    </tr>\n",
              "  </tbody>\n",
              "</table>\n",
              "</div>"
            ],
            "text/plain": [
              "                                                text airline_sentiment\n",
              "0                @VirginAmerica What @dhepburn said.           neutral\n",
              "1  @VirginAmerica plus you've added commercials t...          positive\n",
              "2  @VirginAmerica I didn't today... Must mean I n...           neutral\n",
              "3  @VirginAmerica it's really aggressive to blast...          negative\n",
              "4  @VirginAmerica and it's a really big bad thing...          negative"
            ]
          },
          "metadata": {
            "tags": []
          },
          "execution_count": 10
        }
      ]
    },
    {
      "cell_type": "markdown",
      "metadata": {
        "id": "aHvHyvscGZvk"
      },
      "source": [
        "d. Checking for missing values"
      ]
    },
    {
      "cell_type": "code",
      "metadata": {
        "colab": {
          "base_uri": "https://localhost:8080/"
        },
        "id": "08nJ3AOmGcWz",
        "outputId": "1a42509e-79c2-4fb4-e8a5-e4f41be95deb"
      },
      "source": [
        "airData.isnull().sum()    # printing the number of missing or null values"
      ],
      "execution_count": null,
      "outputs": [
        {
          "output_type": "execute_result",
          "data": {
            "text/plain": [
              "text                 0\n",
              "airline_sentiment    0\n",
              "dtype: int64"
            ]
          },
          "metadata": {
            "tags": []
          },
          "execution_count": 11
        }
      ]
    },
    {
      "cell_type": "markdown",
      "metadata": {
        "id": "L6VSewexGfuz"
      },
      "source": [
        "There are no null or missing values."
      ]
    },
    {
      "cell_type": "markdown",
      "metadata": {
        "id": "MdkjLNpfxu1h"
      },
      "source": [
        "# 3. Text Preprocessing"
      ]
    },
    {
      "cell_type": "markdown",
      "metadata": {
        "id": "D59XwgDCx5PN"
      },
      "source": [
        "### a. HTML Tag Removal"
      ]
    },
    {
      "cell_type": "code",
      "metadata": {
        "colab": {
          "base_uri": "https://localhost:8080/",
          "height": 204
        },
        "id": "FzEVDxGfySZx",
        "outputId": "aeeb0bdd-b593-48af-ece0-d0edc1292b83"
      },
      "source": [
        "# Using the BeautifulSoup function to remove any html tags from the tweet text by\n",
        "# Applying a lambda function on each of the dataframe's text cell\n",
        "airData[\"text\"] = airData[\"text\"].apply(lambda x: BeautifulSoup(x, \"html.parser\").get_text())\n",
        "airData.head()"
      ],
      "execution_count": null,
      "outputs": [
        {
          "output_type": "execute_result",
          "data": {
            "text/html": [
              "<div>\n",
              "<style scoped>\n",
              "    .dataframe tbody tr th:only-of-type {\n",
              "        vertical-align: middle;\n",
              "    }\n",
              "\n",
              "    .dataframe tbody tr th {\n",
              "        vertical-align: top;\n",
              "    }\n",
              "\n",
              "    .dataframe thead th {\n",
              "        text-align: right;\n",
              "    }\n",
              "</style>\n",
              "<table border=\"1\" class=\"dataframe\">\n",
              "  <thead>\n",
              "    <tr style=\"text-align: right;\">\n",
              "      <th></th>\n",
              "      <th>text</th>\n",
              "      <th>airline_sentiment</th>\n",
              "    </tr>\n",
              "  </thead>\n",
              "  <tbody>\n",
              "    <tr>\n",
              "      <th>0</th>\n",
              "      <td>@VirginAmerica What @dhepburn said.</td>\n",
              "      <td>neutral</td>\n",
              "    </tr>\n",
              "    <tr>\n",
              "      <th>1</th>\n",
              "      <td>@VirginAmerica plus you've added commercials t...</td>\n",
              "      <td>positive</td>\n",
              "    </tr>\n",
              "    <tr>\n",
              "      <th>2</th>\n",
              "      <td>@VirginAmerica I didn't today... Must mean I n...</td>\n",
              "      <td>neutral</td>\n",
              "    </tr>\n",
              "    <tr>\n",
              "      <th>3</th>\n",
              "      <td>@VirginAmerica it's really aggressive to blast...</td>\n",
              "      <td>negative</td>\n",
              "    </tr>\n",
              "    <tr>\n",
              "      <th>4</th>\n",
              "      <td>@VirginAmerica and it's a really big bad thing...</td>\n",
              "      <td>negative</td>\n",
              "    </tr>\n",
              "  </tbody>\n",
              "</table>\n",
              "</div>"
            ],
            "text/plain": [
              "                                                text airline_sentiment\n",
              "0                @VirginAmerica What @dhepburn said.           neutral\n",
              "1  @VirginAmerica plus you've added commercials t...          positive\n",
              "2  @VirginAmerica I didn't today... Must mean I n...           neutral\n",
              "3  @VirginAmerica it's really aggressive to blast...          negative\n",
              "4  @VirginAmerica and it's a really big bad thing...          negative"
            ]
          },
          "metadata": {
            "tags": []
          },
          "execution_count": 12
        }
      ]
    },
    {
      "cell_type": "markdown",
      "metadata": {
        "id": "BZJJLQwCuFTq"
      },
      "source": [
        "### Contraction Removal"
      ]
    },
    {
      "cell_type": "code",
      "metadata": {
        "colab": {
          "base_uri": "https://localhost:8080/",
          "height": 204
        },
        "id": "4JDLLMQCuP4q",
        "outputId": "99542197-55dd-4893-d900-6eca5ba1ebbf"
      },
      "source": [
        "# Using the contraction function to transform any contractions to their full words from the tweet text by\n",
        "# Applying a lambda function on each of the dataframe's text cell\n",
        "airData[\"text\"] = airData[\"text\"].apply(lambda x: contractions.fix(x))\n",
        "airData.head()"
      ],
      "execution_count": null,
      "outputs": [
        {
          "output_type": "execute_result",
          "data": {
            "text/html": [
              "<div>\n",
              "<style scoped>\n",
              "    .dataframe tbody tr th:only-of-type {\n",
              "        vertical-align: middle;\n",
              "    }\n",
              "\n",
              "    .dataframe tbody tr th {\n",
              "        vertical-align: top;\n",
              "    }\n",
              "\n",
              "    .dataframe thead th {\n",
              "        text-align: right;\n",
              "    }\n",
              "</style>\n",
              "<table border=\"1\" class=\"dataframe\">\n",
              "  <thead>\n",
              "    <tr style=\"text-align: right;\">\n",
              "      <th></th>\n",
              "      <th>text</th>\n",
              "      <th>airline_sentiment</th>\n",
              "    </tr>\n",
              "  </thead>\n",
              "  <tbody>\n",
              "    <tr>\n",
              "      <th>0</th>\n",
              "      <td>@VirginAmerica What @dhepburn said.</td>\n",
              "      <td>neutral</td>\n",
              "    </tr>\n",
              "    <tr>\n",
              "      <th>1</th>\n",
              "      <td>@VirginAmerica plus you have added commercials...</td>\n",
              "      <td>positive</td>\n",
              "    </tr>\n",
              "    <tr>\n",
              "      <th>2</th>\n",
              "      <td>@VirginAmerica I did not today... Must mean I ...</td>\n",
              "      <td>neutral</td>\n",
              "    </tr>\n",
              "    <tr>\n",
              "      <th>3</th>\n",
              "      <td>@VirginAmerica it is really aggressive to blas...</td>\n",
              "      <td>negative</td>\n",
              "    </tr>\n",
              "    <tr>\n",
              "      <th>4</th>\n",
              "      <td>@VirginAmerica and it is a really big bad thin...</td>\n",
              "      <td>negative</td>\n",
              "    </tr>\n",
              "  </tbody>\n",
              "</table>\n",
              "</div>"
            ],
            "text/plain": [
              "                                                text airline_sentiment\n",
              "0                @VirginAmerica What @dhepburn said.           neutral\n",
              "1  @VirginAmerica plus you have added commercials...          positive\n",
              "2  @VirginAmerica I did not today... Must mean I ...           neutral\n",
              "3  @VirginAmerica it is really aggressive to blas...          negative\n",
              "4  @VirginAmerica and it is a really big bad thin...          negative"
            ]
          },
          "metadata": {
            "tags": []
          },
          "execution_count": 13
        }
      ]
    },
    {
      "cell_type": "markdown",
      "metadata": {
        "id": "M4wy7zG9zTbo"
      },
      "source": [
        "### b. Tokenization"
      ]
    },
    {
      "cell_type": "code",
      "metadata": {
        "colab": {
          "base_uri": "https://localhost:8080/",
          "height": 204
        },
        "id": "bwvsRjnHz4Gx",
        "outputId": "4f1c7d2b-811c-4ae2-df11-66f9f37255d6"
      },
      "source": [
        "# Using word_tokenize function to split the text in each tweet into a list of words by\n",
        "# Applying a lambda function on each of the dataframe's text cell\n",
        "airData[\"text\"]= airData[\"text\"].apply(lambda x: word_tokenize(x))\n",
        "airData.head()"
      ],
      "execution_count": null,
      "outputs": [
        {
          "output_type": "execute_result",
          "data": {
            "text/html": [
              "<div>\n",
              "<style scoped>\n",
              "    .dataframe tbody tr th:only-of-type {\n",
              "        vertical-align: middle;\n",
              "    }\n",
              "\n",
              "    .dataframe tbody tr th {\n",
              "        vertical-align: top;\n",
              "    }\n",
              "\n",
              "    .dataframe thead th {\n",
              "        text-align: right;\n",
              "    }\n",
              "</style>\n",
              "<table border=\"1\" class=\"dataframe\">\n",
              "  <thead>\n",
              "    <tr style=\"text-align: right;\">\n",
              "      <th></th>\n",
              "      <th>text</th>\n",
              "      <th>airline_sentiment</th>\n",
              "    </tr>\n",
              "  </thead>\n",
              "  <tbody>\n",
              "    <tr>\n",
              "      <th>0</th>\n",
              "      <td>[@, VirginAmerica, What, @, dhepburn, said, .]</td>\n",
              "      <td>neutral</td>\n",
              "    </tr>\n",
              "    <tr>\n",
              "      <th>1</th>\n",
              "      <td>[@, VirginAmerica, plus, you, have, added, com...</td>\n",
              "      <td>positive</td>\n",
              "    </tr>\n",
              "    <tr>\n",
              "      <th>2</th>\n",
              "      <td>[@, VirginAmerica, I, did, not, today, ..., Mu...</td>\n",
              "      <td>neutral</td>\n",
              "    </tr>\n",
              "    <tr>\n",
              "      <th>3</th>\n",
              "      <td>[@, VirginAmerica, it, is, really, aggressive,...</td>\n",
              "      <td>negative</td>\n",
              "    </tr>\n",
              "    <tr>\n",
              "      <th>4</th>\n",
              "      <td>[@, VirginAmerica, and, it, is, a, really, big...</td>\n",
              "      <td>negative</td>\n",
              "    </tr>\n",
              "  </tbody>\n",
              "</table>\n",
              "</div>"
            ],
            "text/plain": [
              "                                                text airline_sentiment\n",
              "0     [@, VirginAmerica, What, @, dhepburn, said, .]           neutral\n",
              "1  [@, VirginAmerica, plus, you, have, added, com...          positive\n",
              "2  [@, VirginAmerica, I, did, not, today, ..., Mu...           neutral\n",
              "3  [@, VirginAmerica, it, is, really, aggressive,...          negative\n",
              "4  [@, VirginAmerica, and, it, is, a, really, big...          negative"
            ]
          },
          "metadata": {
            "tags": []
          },
          "execution_count": 14
        }
      ]
    },
    {
      "cell_type": "markdown",
      "metadata": {
        "id": "wmoPM8TZ0cD9"
      },
      "source": [
        "### c. Number Removal"
      ]
    },
    {
      "cell_type": "code",
      "metadata": {
        "id": "mrbK3FNz1Fgv",
        "colab": {
          "base_uri": "https://localhost:8080/",
          "height": 204
        },
        "outputId": "c94e614e-5010-4e5a-aaaa-7e9879d7fc74"
      },
      "source": [
        "# Using regular expressions to remove any numbers (not spelled out) from the tweet text by\n",
        "# Applying a lambda function on each of the dataframe's text cell\n",
        "airData[\"text\"] = airData[\"text\"].apply(lambda words: [re.sub(pattern=r\"\\d+\", repl=\"\", string=word) for word in words])\n",
        "airData.head()"
      ],
      "execution_count": null,
      "outputs": [
        {
          "output_type": "execute_result",
          "data": {
            "text/html": [
              "<div>\n",
              "<style scoped>\n",
              "    .dataframe tbody tr th:only-of-type {\n",
              "        vertical-align: middle;\n",
              "    }\n",
              "\n",
              "    .dataframe tbody tr th {\n",
              "        vertical-align: top;\n",
              "    }\n",
              "\n",
              "    .dataframe thead th {\n",
              "        text-align: right;\n",
              "    }\n",
              "</style>\n",
              "<table border=\"1\" class=\"dataframe\">\n",
              "  <thead>\n",
              "    <tr style=\"text-align: right;\">\n",
              "      <th></th>\n",
              "      <th>text</th>\n",
              "      <th>airline_sentiment</th>\n",
              "    </tr>\n",
              "  </thead>\n",
              "  <tbody>\n",
              "    <tr>\n",
              "      <th>0</th>\n",
              "      <td>[@, VirginAmerica, What, @, dhepburn, said, .]</td>\n",
              "      <td>neutral</td>\n",
              "    </tr>\n",
              "    <tr>\n",
              "      <th>1</th>\n",
              "      <td>[@, VirginAmerica, plus, you, have, added, com...</td>\n",
              "      <td>positive</td>\n",
              "    </tr>\n",
              "    <tr>\n",
              "      <th>2</th>\n",
              "      <td>[@, VirginAmerica, I, did, not, today, ..., Mu...</td>\n",
              "      <td>neutral</td>\n",
              "    </tr>\n",
              "    <tr>\n",
              "      <th>3</th>\n",
              "      <td>[@, VirginAmerica, it, is, really, aggressive,...</td>\n",
              "      <td>negative</td>\n",
              "    </tr>\n",
              "    <tr>\n",
              "      <th>4</th>\n",
              "      <td>[@, VirginAmerica, and, it, is, a, really, big...</td>\n",
              "      <td>negative</td>\n",
              "    </tr>\n",
              "  </tbody>\n",
              "</table>\n",
              "</div>"
            ],
            "text/plain": [
              "                                                text airline_sentiment\n",
              "0     [@, VirginAmerica, What, @, dhepburn, said, .]           neutral\n",
              "1  [@, VirginAmerica, plus, you, have, added, com...          positive\n",
              "2  [@, VirginAmerica, I, did, not, today, ..., Mu...           neutral\n",
              "3  [@, VirginAmerica, it, is, really, aggressive,...          negative\n",
              "4  [@, VirginAmerica, and, it, is, a, really, big...          negative"
            ]
          },
          "metadata": {
            "tags": []
          },
          "execution_count": 15
        }
      ]
    },
    {
      "cell_type": "markdown",
      "metadata": {
        "id": "AI7UlNXFtvpZ"
      },
      "source": [
        "### d. Removal of Special Characters and Punctuation"
      ]
    },
    {
      "cell_type": "code",
      "metadata": {
        "colab": {
          "base_uri": "https://localhost:8080/",
          "height": 204
        },
        "id": "KhHbm7LIt64f",
        "outputId": "150f95d6-25a0-4929-f0b1-1efa956a0195"
      },
      "source": [
        "# Using the unicodedata function to remove any special characters that are not in the normal english language from the tweet text by\n",
        "# Applying a lambda function on each of the dataframe's text cell\n",
        "airData[\"text\"] = airData[\"text\"].apply(lambda words: [unicodedata.normalize(\"NFKD\", word).encode(\"ascii\", \"ignore\").decode(\"utf-8\", \"ignore\") for word in words])\n",
        "airData.head()"
      ],
      "execution_count": null,
      "outputs": [
        {
          "output_type": "execute_result",
          "data": {
            "text/html": [
              "<div>\n",
              "<style scoped>\n",
              "    .dataframe tbody tr th:only-of-type {\n",
              "        vertical-align: middle;\n",
              "    }\n",
              "\n",
              "    .dataframe tbody tr th {\n",
              "        vertical-align: top;\n",
              "    }\n",
              "\n",
              "    .dataframe thead th {\n",
              "        text-align: right;\n",
              "    }\n",
              "</style>\n",
              "<table border=\"1\" class=\"dataframe\">\n",
              "  <thead>\n",
              "    <tr style=\"text-align: right;\">\n",
              "      <th></th>\n",
              "      <th>text</th>\n",
              "      <th>airline_sentiment</th>\n",
              "    </tr>\n",
              "  </thead>\n",
              "  <tbody>\n",
              "    <tr>\n",
              "      <th>0</th>\n",
              "      <td>[@, VirginAmerica, What, @, dhepburn, said, .]</td>\n",
              "      <td>neutral</td>\n",
              "    </tr>\n",
              "    <tr>\n",
              "      <th>1</th>\n",
              "      <td>[@, VirginAmerica, plus, you, have, added, com...</td>\n",
              "      <td>positive</td>\n",
              "    </tr>\n",
              "    <tr>\n",
              "      <th>2</th>\n",
              "      <td>[@, VirginAmerica, I, did, not, today, ..., Mu...</td>\n",
              "      <td>neutral</td>\n",
              "    </tr>\n",
              "    <tr>\n",
              "      <th>3</th>\n",
              "      <td>[@, VirginAmerica, it, is, really, aggressive,...</td>\n",
              "      <td>negative</td>\n",
              "    </tr>\n",
              "    <tr>\n",
              "      <th>4</th>\n",
              "      <td>[@, VirginAmerica, and, it, is, a, really, big...</td>\n",
              "      <td>negative</td>\n",
              "    </tr>\n",
              "  </tbody>\n",
              "</table>\n",
              "</div>"
            ],
            "text/plain": [
              "                                                text airline_sentiment\n",
              "0     [@, VirginAmerica, What, @, dhepburn, said, .]           neutral\n",
              "1  [@, VirginAmerica, plus, you, have, added, com...          positive\n",
              "2  [@, VirginAmerica, I, did, not, today, ..., Mu...           neutral\n",
              "3  [@, VirginAmerica, it, is, really, aggressive,...          negative\n",
              "4  [@, VirginAmerica, and, it, is, a, really, big...          negative"
            ]
          },
          "metadata": {
            "tags": []
          },
          "execution_count": 16
        }
      ]
    },
    {
      "cell_type": "code",
      "metadata": {
        "colab": {
          "base_uri": "https://localhost:8080/",
          "height": 204
        },
        "id": "EjWaVFkgvm0Y",
        "outputId": "60914d9f-b662-41fc-aa69-ded7327ab8e3"
      },
      "source": [
        "# Using regular expressions to remove symbols like @ signs, etc. from the tweet text by\n",
        "# Applying a lambda function on each of the dataframe's text cell\n",
        "airData[\"text\"] = airData[\"text\"].apply(lambda words: [re.sub(pattern=r\"[^\\w\\s]\", repl=\"\", string=word) for word in words])\n",
        "airData[\"text\"] = airData[\"text\"].apply(lambda words: [word for word in words if word != \"\"])\n",
        "\n",
        "airData.head()"
      ],
      "execution_count": null,
      "outputs": [
        {
          "output_type": "execute_result",
          "data": {
            "text/html": [
              "<div>\n",
              "<style scoped>\n",
              "    .dataframe tbody tr th:only-of-type {\n",
              "        vertical-align: middle;\n",
              "    }\n",
              "\n",
              "    .dataframe tbody tr th {\n",
              "        vertical-align: top;\n",
              "    }\n",
              "\n",
              "    .dataframe thead th {\n",
              "        text-align: right;\n",
              "    }\n",
              "</style>\n",
              "<table border=\"1\" class=\"dataframe\">\n",
              "  <thead>\n",
              "    <tr style=\"text-align: right;\">\n",
              "      <th></th>\n",
              "      <th>text</th>\n",
              "      <th>airline_sentiment</th>\n",
              "    </tr>\n",
              "  </thead>\n",
              "  <tbody>\n",
              "    <tr>\n",
              "      <th>0</th>\n",
              "      <td>[VirginAmerica, What, dhepburn, said]</td>\n",
              "      <td>neutral</td>\n",
              "    </tr>\n",
              "    <tr>\n",
              "      <th>1</th>\n",
              "      <td>[VirginAmerica, plus, you, have, added, commer...</td>\n",
              "      <td>positive</td>\n",
              "    </tr>\n",
              "    <tr>\n",
              "      <th>2</th>\n",
              "      <td>[VirginAmerica, I, did, not, today, Must, mean...</td>\n",
              "      <td>neutral</td>\n",
              "    </tr>\n",
              "    <tr>\n",
              "      <th>3</th>\n",
              "      <td>[VirginAmerica, it, is, really, aggressive, to...</td>\n",
              "      <td>negative</td>\n",
              "    </tr>\n",
              "    <tr>\n",
              "      <th>4</th>\n",
              "      <td>[VirginAmerica, and, it, is, a, really, big, b...</td>\n",
              "      <td>negative</td>\n",
              "    </tr>\n",
              "  </tbody>\n",
              "</table>\n",
              "</div>"
            ],
            "text/plain": [
              "                                                text airline_sentiment\n",
              "0              [VirginAmerica, What, dhepburn, said]           neutral\n",
              "1  [VirginAmerica, plus, you, have, added, commer...          positive\n",
              "2  [VirginAmerica, I, did, not, today, Must, mean...           neutral\n",
              "3  [VirginAmerica, it, is, really, aggressive, to...          negative\n",
              "4  [VirginAmerica, and, it, is, a, really, big, b...          negative"
            ]
          },
          "metadata": {
            "tags": []
          },
          "execution_count": 17
        }
      ]
    },
    {
      "cell_type": "markdown",
      "metadata": {
        "id": "ACRviVWZ3APK"
      },
      "source": [
        "### e. Stop Word Removal"
      ]
    },
    {
      "cell_type": "code",
      "metadata": {
        "id": "UWx_uyid3O22"
      },
      "source": [
        "stopWords = stopwords.words('english')    # loading the english stopwords\n",
        "\n",
        "stopWords = set(stopWords) - set(\"not\")   # removing the word \"not\" from set of stopwords since it can convey meaning for sentiment\n",
        "                                          # there is no need to remove the contraction words the set as there are no longer contractions in our dataset"
      ],
      "execution_count": null,
      "outputs": []
    },
    {
      "cell_type": "code",
      "metadata": {
        "colab": {
          "base_uri": "https://localhost:8080/",
          "height": 204
        },
        "id": "TinTPXT74QiD",
        "outputId": "2f424824-f93d-449e-ab51-5849fa420ad7"
      },
      "source": [
        "# Removing any stop words from the tweet text by\n",
        "# Applying a lambda function on each of the dataframe's text cell\n",
        "airData[\"text\"] = airData[\"text\"].apply(lambda words: [word for word in words if word not in stopWords])\n",
        "airData.head()"
      ],
      "execution_count": null,
      "outputs": [
        {
          "output_type": "execute_result",
          "data": {
            "text/html": [
              "<div>\n",
              "<style scoped>\n",
              "    .dataframe tbody tr th:only-of-type {\n",
              "        vertical-align: middle;\n",
              "    }\n",
              "\n",
              "    .dataframe tbody tr th {\n",
              "        vertical-align: top;\n",
              "    }\n",
              "\n",
              "    .dataframe thead th {\n",
              "        text-align: right;\n",
              "    }\n",
              "</style>\n",
              "<table border=\"1\" class=\"dataframe\">\n",
              "  <thead>\n",
              "    <tr style=\"text-align: right;\">\n",
              "      <th></th>\n",
              "      <th>text</th>\n",
              "      <th>airline_sentiment</th>\n",
              "    </tr>\n",
              "  </thead>\n",
              "  <tbody>\n",
              "    <tr>\n",
              "      <th>0</th>\n",
              "      <td>[VirginAmerica, What, dhepburn, said]</td>\n",
              "      <td>neutral</td>\n",
              "    </tr>\n",
              "    <tr>\n",
              "      <th>1</th>\n",
              "      <td>[VirginAmerica, plus, added, commercials, expe...</td>\n",
              "      <td>positive</td>\n",
              "    </tr>\n",
              "    <tr>\n",
              "      <th>2</th>\n",
              "      <td>[VirginAmerica, I, today, Must, mean, I, need,...</td>\n",
              "      <td>neutral</td>\n",
              "    </tr>\n",
              "    <tr>\n",
              "      <th>3</th>\n",
              "      <td>[VirginAmerica, really, aggressive, blast, obn...</td>\n",
              "      <td>negative</td>\n",
              "    </tr>\n",
              "    <tr>\n",
              "      <th>4</th>\n",
              "      <td>[VirginAmerica, really, big, bad, thing]</td>\n",
              "      <td>negative</td>\n",
              "    </tr>\n",
              "  </tbody>\n",
              "</table>\n",
              "</div>"
            ],
            "text/plain": [
              "                                                text airline_sentiment\n",
              "0              [VirginAmerica, What, dhepburn, said]           neutral\n",
              "1  [VirginAmerica, plus, added, commercials, expe...          positive\n",
              "2  [VirginAmerica, I, today, Must, mean, I, need,...           neutral\n",
              "3  [VirginAmerica, really, aggressive, blast, obn...          negative\n",
              "4           [VirginAmerica, really, big, bad, thing]          negative"
            ]
          },
          "metadata": {
            "tags": []
          },
          "execution_count": 19
        }
      ]
    },
    {
      "cell_type": "markdown",
      "metadata": {
        "id": "utFwFcAa4i_Y"
      },
      "source": [
        "### f. Conversion to Lowercase"
      ]
    },
    {
      "cell_type": "code",
      "metadata": {
        "colab": {
          "base_uri": "https://localhost:8080/",
          "height": 204
        },
        "id": "5ISPCFy14zml",
        "outputId": "3395a8e7-9d3f-44ec-8e0a-0caec2efc17f"
      },
      "source": [
        "# Lowercasing all letters in the tweet text by\n",
        "# Applying a lambda function on each of the dataframe's text cell\n",
        "airData[\"text\"] = airData[\"text\"].apply(lambda words: [word.lower() for word in words])\n",
        "airData.head()"
      ],
      "execution_count": null,
      "outputs": [
        {
          "output_type": "execute_result",
          "data": {
            "text/html": [
              "<div>\n",
              "<style scoped>\n",
              "    .dataframe tbody tr th:only-of-type {\n",
              "        vertical-align: middle;\n",
              "    }\n",
              "\n",
              "    .dataframe tbody tr th {\n",
              "        vertical-align: top;\n",
              "    }\n",
              "\n",
              "    .dataframe thead th {\n",
              "        text-align: right;\n",
              "    }\n",
              "</style>\n",
              "<table border=\"1\" class=\"dataframe\">\n",
              "  <thead>\n",
              "    <tr style=\"text-align: right;\">\n",
              "      <th></th>\n",
              "      <th>text</th>\n",
              "      <th>airline_sentiment</th>\n",
              "    </tr>\n",
              "  </thead>\n",
              "  <tbody>\n",
              "    <tr>\n",
              "      <th>0</th>\n",
              "      <td>[virginamerica, what, dhepburn, said]</td>\n",
              "      <td>neutral</td>\n",
              "    </tr>\n",
              "    <tr>\n",
              "      <th>1</th>\n",
              "      <td>[virginamerica, plus, added, commercials, expe...</td>\n",
              "      <td>positive</td>\n",
              "    </tr>\n",
              "    <tr>\n",
              "      <th>2</th>\n",
              "      <td>[virginamerica, i, today, must, mean, i, need,...</td>\n",
              "      <td>neutral</td>\n",
              "    </tr>\n",
              "    <tr>\n",
              "      <th>3</th>\n",
              "      <td>[virginamerica, really, aggressive, blast, obn...</td>\n",
              "      <td>negative</td>\n",
              "    </tr>\n",
              "    <tr>\n",
              "      <th>4</th>\n",
              "      <td>[virginamerica, really, big, bad, thing]</td>\n",
              "      <td>negative</td>\n",
              "    </tr>\n",
              "  </tbody>\n",
              "</table>\n",
              "</div>"
            ],
            "text/plain": [
              "                                                text airline_sentiment\n",
              "0              [virginamerica, what, dhepburn, said]           neutral\n",
              "1  [virginamerica, plus, added, commercials, expe...          positive\n",
              "2  [virginamerica, i, today, must, mean, i, need,...           neutral\n",
              "3  [virginamerica, really, aggressive, blast, obn...          negative\n",
              "4           [virginamerica, really, big, bad, thing]          negative"
            ]
          },
          "metadata": {
            "tags": []
          },
          "execution_count": 20
        }
      ]
    },
    {
      "cell_type": "markdown",
      "metadata": {
        "id": "B1iPt2Bp5I6d"
      },
      "source": [
        "### g. Lemmatize"
      ]
    },
    {
      "cell_type": "code",
      "metadata": {
        "id": "A2k6Q6M65WPY"
      },
      "source": [
        "wnl = WordNetLemmatizer()                             # Initializing the lemmatizer\n",
        "\n",
        "# Custom function to evaluate the part of speech of a word (i.e. adjective, noun, verb, adverb)\n",
        "def getPOS(word):\n",
        "    posTag = nltk.pos_tag([word])[0][1][0].upper()    # Uses nltk library to identify word part of speech\n",
        "    tag_dict = {\"J\": wordnet.ADJ,                     # Dictionary to convert the pos_tag into what the lemmatizer can use\n",
        "                \"N\": wordnet.NOUN,\n",
        "                \"VBG\": wordnet.VERB,\n",
        "                \"R\": wordnet.ADV}\n",
        "\n",
        "    return tag_dict.get(posTag, wordnet.NOUN)         # Returns the part of speech of the provided word, or if unknown, returns noun as a default"
      ],
      "execution_count": null,
      "outputs": []
    },
    {
      "cell_type": "code",
      "metadata": {
        "colab": {
          "base_uri": "https://localhost:8080/",
          "height": 204
        },
        "id": "jAk2WSvw9u_g",
        "outputId": "32ade12e-7bb6-4bba-85e5-b395b790afe9"
      },
      "source": [
        "# Using the lemmatize function to reduce words to their root words that are also in the dictionary from the tweet text by\n",
        "# Applying a lambda function on each of the dataframe's text cell\n",
        "# Also incorporates the custom part of speech function to help the lemmatizer\n",
        "airData[\"text\"] = airData[\"text\"].apply(lambda words: [wnl.lemmatize(word=word, pos=getPOS(word)) for word in words])\n",
        "airData.head()"
      ],
      "execution_count": null,
      "outputs": [
        {
          "output_type": "execute_result",
          "data": {
            "text/html": [
              "<div>\n",
              "<style scoped>\n",
              "    .dataframe tbody tr th:only-of-type {\n",
              "        vertical-align: middle;\n",
              "    }\n",
              "\n",
              "    .dataframe tbody tr th {\n",
              "        vertical-align: top;\n",
              "    }\n",
              "\n",
              "    .dataframe thead th {\n",
              "        text-align: right;\n",
              "    }\n",
              "</style>\n",
              "<table border=\"1\" class=\"dataframe\">\n",
              "  <thead>\n",
              "    <tr style=\"text-align: right;\">\n",
              "      <th></th>\n",
              "      <th>text</th>\n",
              "      <th>airline_sentiment</th>\n",
              "    </tr>\n",
              "  </thead>\n",
              "  <tbody>\n",
              "    <tr>\n",
              "      <th>0</th>\n",
              "      <td>[virginamerica, what, dhepburn, said]</td>\n",
              "      <td>neutral</td>\n",
              "    </tr>\n",
              "    <tr>\n",
              "      <th>1</th>\n",
              "      <td>[virginamerica, plus, added, commercial, exper...</td>\n",
              "      <td>positive</td>\n",
              "    </tr>\n",
              "    <tr>\n",
              "      <th>2</th>\n",
              "      <td>[virginamerica, i, today, must, mean, i, need,...</td>\n",
              "      <td>neutral</td>\n",
              "    </tr>\n",
              "    <tr>\n",
              "      <th>3</th>\n",
              "      <td>[virginamerica, really, aggressive, blast, obn...</td>\n",
              "      <td>negative</td>\n",
              "    </tr>\n",
              "    <tr>\n",
              "      <th>4</th>\n",
              "      <td>[virginamerica, really, big, bad, thing]</td>\n",
              "      <td>negative</td>\n",
              "    </tr>\n",
              "  </tbody>\n",
              "</table>\n",
              "</div>"
            ],
            "text/plain": [
              "                                                text airline_sentiment\n",
              "0              [virginamerica, what, dhepburn, said]           neutral\n",
              "1  [virginamerica, plus, added, commercial, exper...          positive\n",
              "2  [virginamerica, i, today, must, mean, i, need,...           neutral\n",
              "3  [virginamerica, really, aggressive, blast, obn...          negative\n",
              "4           [virginamerica, really, big, bad, thing]          negative"
            ]
          },
          "metadata": {
            "tags": []
          },
          "execution_count": 22
        }
      ]
    },
    {
      "cell_type": "markdown",
      "metadata": {
        "id": "KEaUQ2Ge95L6"
      },
      "source": [
        "### h & i. Joining the words back together"
      ]
    },
    {
      "cell_type": "code",
      "metadata": {
        "colab": {
          "base_uri": "https://localhost:8080/",
          "height": 204
        },
        "id": "boNQBDs0-X4q",
        "outputId": "e64819f1-11c1-43df-dfac-0f0313b4536d"
      },
      "source": [
        "# Combining the list of words of each tweet into a single \"sentence\" by\n",
        "# Applying a lambda function on each of the dataframe's text cell\n",
        "airData[\"text\"] = airData[\"text\"].apply(lambda words: \" \".join(words))\n",
        "airData.head()"
      ],
      "execution_count": null,
      "outputs": [
        {
          "output_type": "execute_result",
          "data": {
            "text/html": [
              "<div>\n",
              "<style scoped>\n",
              "    .dataframe tbody tr th:only-of-type {\n",
              "        vertical-align: middle;\n",
              "    }\n",
              "\n",
              "    .dataframe tbody tr th {\n",
              "        vertical-align: top;\n",
              "    }\n",
              "\n",
              "    .dataframe thead th {\n",
              "        text-align: right;\n",
              "    }\n",
              "</style>\n",
              "<table border=\"1\" class=\"dataframe\">\n",
              "  <thead>\n",
              "    <tr style=\"text-align: right;\">\n",
              "      <th></th>\n",
              "      <th>text</th>\n",
              "      <th>airline_sentiment</th>\n",
              "    </tr>\n",
              "  </thead>\n",
              "  <tbody>\n",
              "    <tr>\n",
              "      <th>0</th>\n",
              "      <td>virginamerica what dhepburn said</td>\n",
              "      <td>neutral</td>\n",
              "    </tr>\n",
              "    <tr>\n",
              "      <th>1</th>\n",
              "      <td>virginamerica plus added commercial experience...</td>\n",
              "      <td>positive</td>\n",
              "    </tr>\n",
              "    <tr>\n",
              "      <th>2</th>\n",
              "      <td>virginamerica i today must mean i need take an...</td>\n",
              "      <td>neutral</td>\n",
              "    </tr>\n",
              "    <tr>\n",
              "      <th>3</th>\n",
              "      <td>virginamerica really aggressive blast obnoxiou...</td>\n",
              "      <td>negative</td>\n",
              "    </tr>\n",
              "    <tr>\n",
              "      <th>4</th>\n",
              "      <td>virginamerica really big bad thing</td>\n",
              "      <td>negative</td>\n",
              "    </tr>\n",
              "  </tbody>\n",
              "</table>\n",
              "</div>"
            ],
            "text/plain": [
              "                                                text airline_sentiment\n",
              "0                   virginamerica what dhepburn said           neutral\n",
              "1  virginamerica plus added commercial experience...          positive\n",
              "2  virginamerica i today must mean i need take an...           neutral\n",
              "3  virginamerica really aggressive blast obnoxiou...          negative\n",
              "4                 virginamerica really big bad thing          negative"
            ]
          },
          "metadata": {
            "tags": []
          },
          "execution_count": 23
        }
      ]
    },
    {
      "cell_type": "markdown",
      "metadata": {
        "id": "east6eF9-oV3"
      },
      "source": [
        "# 4. Vectorization"
      ]
    },
    {
      "cell_type": "markdown",
      "metadata": {
        "id": "IbkHe8XOtyUq"
      },
      "source": [
        "### a. Using CountVectorizer\n",
        "\n",
        "CountVectorizer simply counts the number of times a given word or number of words appears in each tweet and returns an array with that information.  Since we only have a little over 14,000 tweets we will limit the maximum number of features to 3000 so as not to have too many features with respect to the size of our dataset.  This will also aid in reducing the training time of our models."
      ]
    },
    {
      "cell_type": "code",
      "metadata": {
        "colab": {
          "base_uri": "https://localhost:8080/"
        },
        "id": "6oR4Jyq-r8Ew",
        "outputId": "b8490060-8345-45f8-db73-eb6b7558573b"
      },
      "source": [
        "countV = CountVectorizer(max_features=3000)         # intializing the vectorizer limiting to 3000 words max\n",
        "countData = countV.fit_transform(airData[\"text\"])   # fitting the vectorizer and transforming the tweets into a count vectorized array\n",
        "countData.toarray()                                 # displaying a portion of the array"
      ],
      "execution_count": null,
      "outputs": [
        {
          "output_type": "execute_result",
          "data": {
            "text/plain": [
              "array([[0, 0, 0, ..., 0, 0, 0],\n",
              "       [0, 0, 0, ..., 0, 0, 0],\n",
              "       [0, 0, 0, ..., 0, 0, 0],\n",
              "       ...,\n",
              "       [0, 0, 0, ..., 0, 0, 0],\n",
              "       [0, 0, 0, ..., 0, 0, 0],\n",
              "       [0, 0, 0, ..., 0, 0, 0]])"
            ]
          },
          "metadata": {
            "tags": []
          },
          "execution_count": 24
        }
      ]
    },
    {
      "cell_type": "code",
      "metadata": {
        "colab": {
          "base_uri": "https://localhost:8080/"
        },
        "id": "KZdqgvvOt7nU",
        "outputId": "d7255617-776d-460f-9165-1ca5b9f3bdcc"
      },
      "source": [
        "countData.shape # printing the shape of the vectorized data"
      ],
      "execution_count": null,
      "outputs": [
        {
          "output_type": "execute_result",
          "data": {
            "text/plain": [
              "(14640, 3000)"
            ]
          },
          "metadata": {
            "tags": []
          },
          "execution_count": 25
        }
      ]
    },
    {
      "cell_type": "markdown",
      "metadata": {
        "id": "ueK5XUkGKdqB"
      },
      "source": [
        "The tweets are now transformed into having 3000 columns, the maximum number of words we limited the vectorizer to."
      ]
    },
    {
      "cell_type": "markdown",
      "metadata": {
        "id": "7-D_y0mquFju"
      },
      "source": [
        "### b. Using TfidfVectorizer\n",
        "\n",
        "Tfidf vectorization normalizes the word count by increasing the importance of words that occur in fewer of the tweets while decreasing the importance of words that occur in a large number of the tweets."
      ]
    },
    {
      "cell_type": "code",
      "metadata": {
        "colab": {
          "base_uri": "https://localhost:8080/"
        },
        "id": "3WhiZqzeuXPL",
        "outputId": "212b3cb4-f335-4586-9482-1db53d4700fb"
      },
      "source": [
        "tfidfV = TfidfVectorizer(max_features=3000)       # intializing the vectorizer limiting to 3000 words max\n",
        "tfData = tfidfV.fit_transform(airData[\"text\"])    # fitting the vectorizer and transforming the tweets into a tfidf vectorized array\n",
        "tfData.toarray()                                  # displaying a portion of the array"
      ],
      "execution_count": null,
      "outputs": [
        {
          "output_type": "execute_result",
          "data": {
            "text/plain": [
              "array([[0., 0., 0., ..., 0., 0., 0.],\n",
              "       [0., 0., 0., ..., 0., 0., 0.],\n",
              "       [0., 0., 0., ..., 0., 0., 0.],\n",
              "       ...,\n",
              "       [0., 0., 0., ..., 0., 0., 0.],\n",
              "       [0., 0., 0., ..., 0., 0., 0.],\n",
              "       [0., 0., 0., ..., 0., 0., 0.]])"
            ]
          },
          "metadata": {
            "tags": []
          },
          "execution_count": 26
        }
      ]
    },
    {
      "cell_type": "code",
      "metadata": {
        "colab": {
          "base_uri": "https://localhost:8080/"
        },
        "id": "AN2po7JFux60",
        "outputId": "c0fbaef1-7b7e-46e8-aef9-7d1592bb89b9"
      },
      "source": [
        "tfData.shape    # printing the shape of the vectorized data"
      ],
      "execution_count": null,
      "outputs": [
        {
          "output_type": "execute_result",
          "data": {
            "text/plain": [
              "(14640, 3000)"
            ]
          },
          "metadata": {
            "tags": []
          },
          "execution_count": 27
        }
      ]
    },
    {
      "cell_type": "markdown",
      "metadata": {
        "id": "TxY_-GKxLNa5"
      },
      "source": [
        "The tweets are now transformed into having 3000 columns, the maximum number of words we limited the vectorizer to."
      ]
    },
    {
      "cell_type": "markdown",
      "metadata": {
        "id": "NbChh5wBwEa5"
      },
      "source": [
        "# 5. Fit and Evaluate Models"
      ]
    },
    {
      "cell_type": "markdown",
      "metadata": {
        "id": "rQTNUzFyym-q"
      },
      "source": [
        "## a. Encoding Dependent Variable\n",
        "\n",
        "The neural network needs the target variable to be an array of vectors and not simply strings (words)."
      ]
    },
    {
      "cell_type": "code",
      "metadata": {
        "colab": {
          "base_uri": "https://localhost:8080/"
        },
        "id": "rxaGk4jsxzUT",
        "outputId": "7b80ae10-0514-4f19-f90b-8204610d49fa"
      },
      "source": [
        "airData[\"airline_sentiment\"].value_counts()   # printing the number and values of our target variable"
      ],
      "execution_count": null,
      "outputs": [
        {
          "output_type": "execute_result",
          "data": {
            "text/plain": [
              "negative    9178\n",
              "neutral     3099\n",
              "positive    2363\n",
              "Name: airline_sentiment, dtype: int64"
            ]
          },
          "metadata": {
            "tags": []
          },
          "execution_count": 28
        }
      ]
    },
    {
      "cell_type": "markdown",
      "metadata": {
        "id": "H66mMJnBLmVx"
      },
      "source": [
        "There are three different sentiments: negative, neutral and positive.  We can see that there are far more negative tweets than positive tweets in the dataset.  We will use upsampling later on to balance these classes."
      ]
    },
    {
      "cell_type": "code",
      "metadata": {
        "id": "8ieK8Ju-ysjy"
      },
      "source": [
        "# Dictionary to convert the strings of airline sentiment into integers\n",
        "sentimentDict = {\"negative\": 0,\n",
        "                 \"neutral\": 1,\n",
        "                 \"positive\": 2}"
      ],
      "execution_count": null,
      "outputs": []
    },
    {
      "cell_type": "code",
      "metadata": {
        "colab": {
          "base_uri": "https://localhost:8080/"
        },
        "id": "oHmfCGDKy8-E",
        "outputId": "cdc0cdef-32ed-4717-9490-cb1e6cbbb4ea"
      },
      "source": [
        "y = airData[\"airline_sentiment\"].apply(lambda x: sentimentDict[x]).values   # Converting the target classes from strings to integers\n",
        "y = to_categorical(y=y, num_classes=3)                                      # Converting the target classes into vectors the neural network can use\n",
        "y                                                                           # Displaying some of the new array"
      ],
      "execution_count": null,
      "outputs": [
        {
          "output_type": "execute_result",
          "data": {
            "text/plain": [
              "array([[0., 1., 0.],\n",
              "       [0., 0., 1.],\n",
              "       [0., 1., 0.],\n",
              "       ...,\n",
              "       [0., 1., 0.],\n",
              "       [1., 0., 0.],\n",
              "       [0., 1., 0.]], dtype=float32)"
            ]
          },
          "metadata": {
            "tags": []
          },
          "execution_count": 30
        }
      ]
    },
    {
      "cell_type": "markdown",
      "metadata": {
        "id": "KljuPwuhMQja"
      },
      "source": [
        "The target class is now converted to a form the neural network can use to train."
      ]
    },
    {
      "cell_type": "markdown",
      "metadata": {
        "id": "ml1ZiVUr0NJd"
      },
      "source": [
        "## b. Custom Function to Build Neural Network for the Grid Search Method"
      ]
    },
    {
      "cell_type": "code",
      "metadata": {
        "id": "LtX7Mi0D0vUy"
      },
      "source": [
        "# Custom function for building a ANN model based on different hyperparameters\n",
        "def buildSequential(numDenseLayers, unitsANN, dropout, optimizer=\"adam\", activation=\"relu\"):\n",
        "\n",
        "  # Intializing the new model\n",
        "  gridNN = Sequential()\n",
        "\n",
        "  # Creating a number of Dense layers equal to numDenseLayers\n",
        "  for i in np.arange(0, numDenseLayers):\n",
        "    if i == 0:\n",
        "      # Adding the first Dense layer with a number of neurons equal to number of units fed to our custom function\n",
        "      gridNN.add(Dense(unitsANN[i], activation=activation, input_shape=(3000,)))\n",
        "    else:\n",
        "      # Adding other Dense layers with a number of neurons equal to number of units fed to our custom function\n",
        "      gridNN.add(Dense(unitsANN[i], activation=activation))\n",
        "    # Adding a dropout layer with a rate equal to dropout to help control overfitting\n",
        "    gridNN.add(Dropout(dropout))\n",
        "\n",
        "  # Adding the final layer which has a number of neurons equal to the number of sentiments, in this case 3\n",
        "  # Using softmax to calculate the probablity the input text is each class\n",
        "  gridNN.add(Dense(3, activation=\"softmax\"))\n",
        "\n",
        "  # Adding the adam optimizer to our model\n",
        "  # Using categorical crossentropy for our loss since we have more than two classes\n",
        "  gridNN.compile(optimizer=optimizer, loss=\"categorical_crossentropy\", metrics=[\"accuracy\"])\n",
        "\n",
        "  # Returning the CNN model contructed based on inputed hyperparameter values\n",
        "  return gridNN"
      ],
      "execution_count": null,
      "outputs": []
    },
    {
      "cell_type": "markdown",
      "metadata": {
        "id": "4ud6i907w9Be"
      },
      "source": [
        "## c. CountVectorizer Model\n",
        "\n",
        "First we will train our model on using the data from CountVectorizer"
      ]
    },
    {
      "cell_type": "markdown",
      "metadata": {
        "id": "wFPbJVmvzsyM"
      },
      "source": [
        "### Splitting Data into Training, Validation and Testing"
      ]
    },
    {
      "cell_type": "markdown",
      "metadata": {
        "id": "XHJZXRpRi8F-"
      },
      "source": [
        "We want to split our data into three groups: training, validation and test.  We want 35% of our data to be training, 35% to be validation and 30% to be test data.\n",
        "\n",
        "To do this we will first split our data into 30% test and 70% other."
      ]
    },
    {
      "cell_type": "code",
      "metadata": {
        "colab": {
          "base_uri": "https://localhost:8080/"
        },
        "id": "N1WPgUA9olbe",
        "outputId": "1977ee78-a6cc-4a32-de21-1b9c5f5345bf"
      },
      "source": [
        "countData = countData.toarray()   # Converting the dependent data to a regular numpy array for the neural network\n",
        "countData"
      ],
      "execution_count": null,
      "outputs": [
        {
          "output_type": "execute_result",
          "data": {
            "text/plain": [
              "array([[0, 0, 0, ..., 0, 0, 0],\n",
              "       [0, 0, 0, ..., 0, 0, 0],\n",
              "       [0, 0, 0, ..., 0, 0, 0],\n",
              "       ...,\n",
              "       [0, 0, 0, ..., 0, 0, 0],\n",
              "       [0, 0, 0, ..., 0, 0, 0],\n",
              "       [0, 0, 0, ..., 0, 0, 0]])"
            ]
          },
          "metadata": {
            "tags": []
          },
          "execution_count": 32
        }
      ]
    },
    {
      "cell_type": "code",
      "metadata": {
        "id": "8WdIbUiZyDTl"
      },
      "source": [
        "# Splitting into 30% actual test data and 70% \"train\" data that we will split below into the actual train data and validation data.\n",
        "# We are stratifying our data so that train, validation and test will all have equal proportions of each class.\n",
        "x_train, x_test, y_train, y_test = train_test_split(countData, y, test_size=0.3, stratify=y, random_state=1)"
      ],
      "execution_count": null,
      "outputs": []
    },
    {
      "cell_type": "markdown",
      "metadata": {
        "id": "0I39Md3zNDKi"
      },
      "source": [
        "**SMOTE - Oversampling of the data**\n",
        "\n",
        "We will use the SMOTE function to upsample the `neutral` and `positive` tweets so they have the same number of tweets as the `negative` class.  This will help our model be able to identify each class well instead of only the dominant `negative` class."
      ]
    },
    {
      "cell_type": "code",
      "metadata": {
        "colab": {
          "base_uri": "https://localhost:8080/"
        },
        "id": "ih-zUfjV3QCo",
        "outputId": "808d3a84-ad21-4ad5-b83a-8f0c56712ea3"
      },
      "source": [
        "sm = SMOTE(k_neighbors = 5, random_state=1)   #Synthetic Minority Over Sampling Technique\n",
        "x_train, y_train = sm.fit_resample(x_train, y_train)    # fitting the SMOTE algorithm to the data"
      ],
      "execution_count": null,
      "outputs": [
        {
          "output_type": "stream",
          "text": [
            "/usr/local/lib/python3.7/dist-packages/sklearn/utils/deprecation.py:87: FutureWarning: Function safe_indexing is deprecated; safe_indexing is deprecated in version 0.22 and will be removed in version 0.24.\n",
            "  warnings.warn(msg, category=FutureWarning)\n",
            "/usr/local/lib/python3.7/dist-packages/sklearn/utils/deprecation.py:87: FutureWarning: Function safe_indexing is deprecated; safe_indexing is deprecated in version 0.22 and will be removed in version 0.24.\n",
            "  warnings.warn(msg, category=FutureWarning)\n"
          ],
          "name": "stderr"
        }
      ]
    },
    {
      "cell_type": "code",
      "metadata": {
        "id": "0x_LhyHM7j2Q"
      },
      "source": [
        "# Splitting the rest of the data into equal parts training and validation.\n",
        "# Again we are stratifying our data to have equal proportions of each class.\n",
        "x_train, x_val, y_train, y_val = train_test_split(x_train, y_train, test_size=0.5, stratify=y_train, random_state=1)"
      ],
      "execution_count": null,
      "outputs": []
    },
    {
      "cell_type": "code",
      "metadata": {
        "colab": {
          "base_uri": "https://localhost:8080/"
        },
        "id": "wlWDVjvNzeUq",
        "outputId": "957544db-ace1-4c2f-8104-dfd52a71fbe4"
      },
      "source": [
        "# Printing the shape of our independent variables\n",
        "print(\"x_train shape:\", x_train.shape)\n",
        "print(\"x_val shape:\", x_val.shape)\n",
        "print(\"x_test shape:\", x_test.shape)\n",
        "print()\n",
        "\n",
        "# Printing the shape of our dependent variable\n",
        "print(\"y_train shape:\", y_train.shape)\n",
        "print(\"y_val shape:\", y_val.shape)\n",
        "print(\"y_test shape:\", y_test.shape)"
      ],
      "execution_count": null,
      "outputs": [
        {
          "output_type": "stream",
          "text": [
            "x_train shape: (9637, 3000)\n",
            "x_val shape: (9638, 3000)\n",
            "x_test shape: (4392, 3000)\n",
            "\n",
            "y_train shape: (9637, 3)\n",
            "y_val shape: (9638, 3)\n",
            "y_test shape: (4392, 3)\n"
          ],
          "name": "stdout"
        }
      ]
    },
    {
      "cell_type": "markdown",
      "metadata": {
        "id": "ieqNJT7SN8xB"
      },
      "source": [
        "We see our training and validation data has been upsampled and is of equal size.  The test data remained untouched and is 30% of the original dataset size."
      ]
    },
    {
      "cell_type": "markdown",
      "metadata": {
        "id": "Z9M9iM28XoHl"
      },
      "source": [
        "### Grid Search Parameters"
      ]
    },
    {
      "cell_type": "markdown",
      "metadata": {
        "id": "jjL96pFbqD7g"
      },
      "source": [
        "Grid search is a time intensive process.  The more hyperparameters which are tuned and the greater the number of options we give for each hyperparameter the more combinations we have to train.  Below we have chosen to tune some of the hyperparameters yielding 48 different combinations to train with."
      ]
    },
    {
      "cell_type": "code",
      "metadata": {
        "id": "1BO8-LPf46EX"
      },
      "source": [
        "# The options for the number of dense layers\n",
        "numDenseLayers = [1, 2, 3, 4]\n",
        "\n",
        "# The options for the number of neurons in each dense layer\n",
        "unitsANN = [[64, 64, 64, 64],\n",
        "            [8, 16, 32, 64],\n",
        "            [16, 32, 64, 128],\n",
        "            [32, 32, 32, 32],]\n",
        "\n",
        "# The options for the dropout values for each dense layer\n",
        "dropout = [0.5, 0.3, 0.1]"
      ],
      "execution_count": null,
      "outputs": []
    },
    {
      "cell_type": "markdown",
      "metadata": {
        "id": "7Zqd7d2t4wDq"
      },
      "source": [
        "### Fitting the CountVectorizer Model"
      ]
    },
    {
      "cell_type": "markdown",
      "metadata": {
        "id": "danaP4KEr8PN"
      },
      "source": [
        "We now will loop through the different combinations of hyperparameters and fit the model.  We will also employ two Keras callbacks:\n",
        "- EarlyStopping: stops the training process when the current model has not improved for a given number of epochs\n",
        "- ModelCheckpoint: saves the best version of the current model at each epoch"
      ]
    },
    {
      "cell_type": "code",
      "metadata": {
        "id": "yfGQwKwQ3mnF",
        "colab": {
          "base_uri": "https://localhost:8080/"
        },
        "outputId": "50bac931-9471-421c-bcbf-6c4fdecac569"
      },
      "source": [
        "i = 0                 # Initializing a counter to number the current model\n",
        "bestValLoss = 1000    # Initializing the current \"best\" validation loss really high so any model will be performing better than it\n",
        "\n",
        "# Looping through the different hyperparameter options given above, fitting the model with each combination\n",
        "\n",
        "for dp in dropout:\n",
        "  for nd in numDenseLayers:\n",
        "    for ua in unitsANN:\n",
        "      # Building the current model with a combination of hyperparameters using our custom function\n",
        "      model = buildSequential(nd, ua, dp)\n",
        "\n",
        "      # Setting the early stopping callback to stop training when the validation loss has not improved after 10 epochs\n",
        "      early_stopping = EarlyStopping(monitor=\"val_loss\", min_delta=0.001, patience=10)\n",
        "\n",
        "      # Setting the model checkpoint to save the weights of the current model when the validation loss has improved\n",
        "      model_checkpoint = ModelCheckpoint(filepath= \"model_\" + str(i) + \".h5\",\n",
        "                          monitor = \"val_loss\",\n",
        "                          verbose = 0,\n",
        "                          save_best_only = True,\n",
        "                          save_weights_only = True,\n",
        "                          mode = \"auto\",\n",
        "                          save_freq = \"epoch\")\n",
        "\n",
        "      # Training the model with 50 as our batch size and 100 epochs\n",
        "      # The training will probably stop each time before 100 epochs based on the early stopping callback\n",
        "      # Using x_val and y_val as the validation data\n",
        "      model.fit(x = x_train,\n",
        "                y = y_train,\n",
        "                batch_size=50,\n",
        "                epochs=100,\n",
        "                verbose=0,\n",
        "                validation_data=(x_val, y_val),\n",
        "                callbacks=[early_stopping, model_checkpoint])\n",
        "      \n",
        "      # Loading the weights of the current model saved from its best version\n",
        "      # The best version of the current model has the lowest validation loss\n",
        "      model.load_weights(filepath=\"model_\" + str(i) + \".h5\")\n",
        "      \n",
        "      # Calculating the validation loss and accuracy for the best version of the current model\n",
        "      valLoss, valAcc = model.evaluate(x=x_val, y=y_val)\n",
        "\n",
        "      # If the validation loss of the current model is better than all other previous models...\n",
        "      if valLoss < bestValLoss:\n",
        "        bestModelNumber = i                                     # Store the current model number\n",
        "        bestValLoss = valLoss                                   # Store the current model validation score as the best\n",
        "        bestParameters = [nd, ua, dp]   # Store the current model hyperparameters as the best\n",
        "        bestModel = model                                       # Store the current model as the best\n",
        "\n",
        "      # Displaying the finished model number and it's validation loss and accuracy\n",
        "      print(\"Model\", i, \" finished with validation loss of\", valLoss, \"and validation accuracy of\", valAcc)\n",
        "\n",
        "      # Increasing the model number by one for the next model\n",
        "      i += 1\n",
        "\n",
        "      # Clearing up memory (RAM)\n",
        "      backend.clear_session()"
      ],
      "execution_count": null,
      "outputs": [
        {
          "output_type": "stream",
          "text": [
            "302/302 [==============================] - 1s 2ms/step - loss: 0.5557 - accuracy: 0.7682\n",
            "Model 0  finished with validation loss of 0.5556889176368713 and validation accuracy of 0.7682091593742371\n",
            "302/302 [==============================] - 1s 2ms/step - loss: 0.5772 - accuracy: 0.7726\n",
            "Model 1  finished with validation loss of 0.5771964192390442 and validation accuracy of 0.7725669145584106\n",
            "302/302 [==============================] - 1s 2ms/step - loss: 0.5624 - accuracy: 0.7700\n",
            "Model 2  finished with validation loss of 0.5623536109924316 and validation accuracy of 0.7699730396270752\n",
            "302/302 [==============================] - 1s 2ms/step - loss: 0.5520 - accuracy: 0.7694\n",
            "Model 3  finished with validation loss of 0.5520438551902771 and validation accuracy of 0.7693504691123962\n",
            "302/302 [==============================] - 1s 2ms/step - loss: 0.5669 - accuracy: 0.7685\n",
            "Model 4  finished with validation loss of 0.5668622851371765 and validation accuracy of 0.7685204148292542\n",
            "302/302 [==============================] - 1s 2ms/step - loss: 0.6360 - accuracy: 0.7545\n",
            "Model 5  finished with validation loss of 0.6360357403755188 and validation accuracy of 0.7545133829116821\n",
            "302/302 [==============================] - 1s 2ms/step - loss: 0.5863 - accuracy: 0.7712\n",
            "Model 6  finished with validation loss of 0.5863429307937622 and validation accuracy of 0.7712181210517883\n",
            "302/302 [==============================] - 1s 2ms/step - loss: 0.5785 - accuracy: 0.7712\n",
            "Model 7  finished with validation loss of 0.5785275101661682 and validation accuracy of 0.7712181210517883\n",
            "302/302 [==============================] - 1s 2ms/step - loss: 0.5674 - accuracy: 0.7673\n",
            "Model 8  finished with validation loss of 0.5674463510513306 and validation accuracy of 0.7672753930091858\n",
            "302/302 [==============================] - 1s 2ms/step - loss: 0.7152 - accuracy: 0.6841\n",
            "Model 9  finished with validation loss of 0.7151748538017273 and validation accuracy of 0.6840630769729614\n",
            "302/302 [==============================] - 1s 2ms/step - loss: 0.6677 - accuracy: 0.7203\n",
            "Model 10  finished with validation loss of 0.6677095293998718 and validation accuracy of 0.7202739119529724\n",
            "302/302 [==============================] - 1s 2ms/step - loss: 0.6182 - accuracy: 0.7550\n",
            "Model 11  finished with validation loss of 0.6182320713996887 and validation accuracy of 0.7550321817398071\n",
            "302/302 [==============================] - 1s 2ms/step - loss: 0.6002 - accuracy: 0.7590\n",
            "Model 12  finished with validation loss of 0.6001781821250916 and validation accuracy of 0.7589749097824097\n",
            "302/302 [==============================] - 1s 2ms/step - loss: 0.7013 - accuracy: 0.6681\n",
            "Model 13  finished with validation loss of 0.7012540698051453 and validation accuracy of 0.6680846810340881\n",
            "302/302 [==============================] - 1s 2ms/step - loss: 0.6500 - accuracy: 0.7119\n",
            "Model 14  finished with validation loss of 0.650041401386261 and validation accuracy of 0.7118696570396423\n",
            "302/302 [==============================] - 1s 2ms/step - loss: 0.7012 - accuracy: 0.6709\n",
            "Model 15  finished with validation loss of 0.7011510729789734 and validation accuracy of 0.6708860993385315\n",
            "302/302 [==============================] - 1s 2ms/step - loss: 0.5533 - accuracy: 0.7708\n",
            "Model 16  finished with validation loss of 0.5533363223075867 and validation accuracy of 0.7708030939102173\n",
            "302/302 [==============================] - 1s 2ms/step - loss: 0.5655 - accuracy: 0.7689\n",
            "Model 17  finished with validation loss of 0.5654970407485962 and validation accuracy of 0.7689354419708252\n",
            "302/302 [==============================] - 1s 2ms/step - loss: 0.5609 - accuracy: 0.7707\n",
            "Model 18  finished with validation loss of 0.5608576536178589 and validation accuracy of 0.7706993222236633\n",
            "302/302 [==============================] - 1s 2ms/step - loss: 0.5624 - accuracy: 0.7691\n",
            "Model 19  finished with validation loss of 0.5623578429222107 and validation accuracy of 0.7691429853439331\n",
            "302/302 [==============================] - 1s 2ms/step - loss: 0.5580 - accuracy: 0.7718\n",
            "Model 20  finished with validation loss of 0.557969868183136 and validation accuracy of 0.7718406319618225\n",
            "302/302 [==============================] - 1s 2ms/step - loss: 0.5832 - accuracy: 0.7659\n",
            "Model 21  finished with validation loss of 0.5831605792045593 and validation accuracy of 0.7659265398979187\n",
            "302/302 [==============================] - 1s 2ms/step - loss: 0.5676 - accuracy: 0.7695\n",
            "Model 22  finished with validation loss of 0.5675874948501587 and validation accuracy of 0.7694542407989502\n",
            "302/302 [==============================] - 1s 2ms/step - loss: 0.5632 - accuracy: 0.7696\n",
            "Model 23  finished with validation loss of 0.5631829500198364 and validation accuracy of 0.7695580124855042\n",
            "302/302 [==============================] - 1s 2ms/step - loss: 0.5536 - accuracy: 0.7707\n",
            "Model 24  finished with validation loss of 0.5536041259765625 and validation accuracy of 0.7706993222236633\n",
            "302/302 [==============================] - 1s 2ms/step - loss: 0.5974 - accuracy: 0.7639\n",
            "Model 25  finished with validation loss of 0.5974467396736145 and validation accuracy of 0.7638514041900635\n",
            "302/302 [==============================] - 1s 2ms/step - loss: 0.5723 - accuracy: 0.7696\n",
            "Model 26  finished with validation loss of 0.5723458528518677 and validation accuracy of 0.7695580124855042\n",
            "302/302 [==============================] - 1s 2ms/step - loss: 0.5737 - accuracy: 0.7615\n",
            "Model 27  finished with validation loss of 0.5736655592918396 and validation accuracy of 0.7614650130271912\n",
            "302/302 [==============================] - 1s 2ms/step - loss: 0.5688 - accuracy: 0.7662\n",
            "Model 28  finished with validation loss of 0.5688422918319702 and validation accuracy of 0.7662377953529358\n",
            "302/302 [==============================] - 1s 2ms/step - loss: 0.6711 - accuracy: 0.7084\n",
            "Model 29  finished with validation loss of 0.6711445450782776 and validation accuracy of 0.7084457278251648\n",
            "302/302 [==============================] - 1s 2ms/step - loss: 0.5819 - accuracy: 0.7594\n",
            "Model 30  finished with validation loss of 0.5819495916366577 and validation accuracy of 0.7593899369239807\n",
            "302/302 [==============================] - 1s 2ms/step - loss: 0.5756 - accuracy: 0.7710\n",
            "Model 31  finished with validation loss of 0.5756200551986694 and validation accuracy of 0.7710105776786804\n",
            "302/302 [==============================] - 1s 2ms/step - loss: 0.5558 - accuracy: 0.7713\n",
            "Model 32  finished with validation loss of 0.5558421611785889 and validation accuracy of 0.7713218331336975\n",
            "302/302 [==============================] - 1s 2ms/step - loss: 0.5603 - accuracy: 0.7685\n",
            "Model 33  finished with validation loss of 0.5602991580963135 and validation accuracy of 0.7685204148292542\n",
            "302/302 [==============================] - 1s 2ms/step - loss: 0.5602 - accuracy: 0.7668\n",
            "Model 34  finished with validation loss of 0.5601832270622253 and validation accuracy of 0.7667565941810608\n",
            "302/302 [==============================] - 1s 2ms/step - loss: 0.5552 - accuracy: 0.7685\n",
            "Model 35  finished with validation loss of 0.5551583170890808 and validation accuracy of 0.7685204148292542\n",
            "302/302 [==============================] - 1s 2ms/step - loss: 0.5634 - accuracy: 0.7543\n",
            "Model 36  finished with validation loss of 0.5634246468544006 and validation accuracy of 0.754305899143219\n",
            "302/302 [==============================] - 1s 2ms/step - loss: 0.5660 - accuracy: 0.7686\n",
            "Model 37  finished with validation loss of 0.5660375952720642 and validation accuracy of 0.7686241865158081\n",
            "302/302 [==============================] - 1s 2ms/step - loss: 0.5706 - accuracy: 0.7671\n",
            "Model 38  finished with validation loss of 0.5705513954162598 and validation accuracy of 0.7670678496360779\n",
            "302/302 [==============================] - 1s 2ms/step - loss: 0.5609 - accuracy: 0.7722\n",
            "Model 39  finished with validation loss of 0.5609432458877563 and validation accuracy of 0.7721518874168396\n",
            "302/302 [==============================] - 1s 2ms/step - loss: 0.5508 - accuracy: 0.7739\n",
            "Model 40  finished with validation loss of 0.5507962703704834 and validation accuracy of 0.7739157676696777\n",
            "302/302 [==============================] - 1s 2ms/step - loss: 0.5724 - accuracy: 0.7671\n",
            "Model 41  finished with validation loss of 0.5723516941070557 and validation accuracy of 0.7670678496360779\n",
            "302/302 [==============================] - 1s 2ms/step - loss: 0.5676 - accuracy: 0.7639\n",
            "Model 42  finished with validation loss of 0.5675548315048218 and validation accuracy of 0.7638514041900635\n",
            "302/302 [==============================] - 1s 2ms/step - loss: 0.5651 - accuracy: 0.7565\n",
            "Model 43  finished with validation loss of 0.5651441812515259 and validation accuracy of 0.7564847469329834\n",
            "302/302 [==============================] - 1s 2ms/step - loss: 0.5577 - accuracy: 0.7676\n",
            "Model 44  finished with validation loss of 0.5576799511909485 and validation accuracy of 0.7675866484642029\n",
            "302/302 [==============================] - 1s 2ms/step - loss: 0.6104 - accuracy: 0.7434\n",
            "Model 45  finished with validation loss of 0.6103551983833313 and validation accuracy of 0.7434114813804626\n",
            "302/302 [==============================] - 1s 2ms/step - loss: 0.5792 - accuracy: 0.7640\n",
            "Model 46  finished with validation loss of 0.5792456865310669 and validation accuracy of 0.7639551758766174\n",
            "302/302 [==============================] - 1s 2ms/step - loss: 0.5584 - accuracy: 0.7592\n",
            "Model 47  finished with validation loss of 0.558392345905304 and validation accuracy of 0.7591823935508728\n"
          ],
          "name": "stdout"
        }
      ]
    },
    {
      "cell_type": "code",
      "metadata": {
        "colab": {
          "base_uri": "https://localhost:8080/"
        },
        "id": "JSoo6cBSrkU8",
        "outputId": "4b963949-e62e-4c6e-bf00-bc1e30aae849"
      },
      "source": [
        "# Printing which model performed best\n",
        "print(\"Best Model Number:\", bestModelNumber)\n",
        "print(\"Best Model Validation Loss\", bestValLoss)"
      ],
      "execution_count": null,
      "outputs": [
        {
          "output_type": "stream",
          "text": [
            "Best Model Number: 40\n",
            "Best Model Validation Loss 0.5507962703704834\n"
          ],
          "name": "stdout"
        }
      ]
    },
    {
      "cell_type": "code",
      "metadata": {
        "colab": {
          "base_uri": "https://localhost:8080/"
        },
        "id": "worR_cyTrmug",
        "outputId": "4722854e-2104-42ac-b4d5-9cde2a89457a"
      },
      "source": [
        "# Printing the best parameters\n",
        "bestParameters"
      ],
      "execution_count": null,
      "outputs": [
        {
          "output_type": "execute_result",
          "data": {
            "text/plain": [
              "[3, [64, 64, 64, 64], 0.1]"
            ]
          },
          "metadata": {
            "tags": []
          },
          "execution_count": 40
        }
      ]
    },
    {
      "cell_type": "markdown",
      "metadata": {
        "id": "f7flRULJrpO3"
      },
      "source": [
        "The best model has the following hyperparameters:\n",
        "- Number of dense layers: 3 with 1 additional softmax layer\n",
        "- Number of neurons: 64, 64, 64\n",
        "- Dropout rate: 0.1"
      ]
    },
    {
      "cell_type": "code",
      "metadata": {
        "id": "1Tp1NU95r7FG"
      },
      "source": [
        "# Rebuilding the best model with the using the best parameters\n",
        "bestModel = buildSequential(bestParameters[0],\n",
        "                            bestParameters[1],\n",
        "                            bestParameters[2],)\n",
        "\n",
        "# Loading the weights for the best model that were saved by the checkpoint\n",
        "bestModel.load_weights(\"model_\" + str(bestModelNumber) + \".h5\")"
      ],
      "execution_count": null,
      "outputs": []
    },
    {
      "cell_type": "code",
      "metadata": {
        "colab": {
          "base_uri": "https://localhost:8080/"
        },
        "id": "6LwshuKysAxW",
        "outputId": "c9552f38-c58f-4df1-f990-868a31978646"
      },
      "source": [
        "# Printing the best model's validation accuracy\n",
        "print(\"Best Model Validation Accuracy:\", bestModel.evaluate(x=x_val, y=y_val)[1])"
      ],
      "execution_count": null,
      "outputs": [
        {
          "output_type": "stream",
          "text": [
            "302/302 [==============================] - 1s 2ms/step - loss: 0.5508 - accuracy: 0.7739\n",
            "Best Model Validation Accuracy: 0.7739157676696777\n"
          ],
          "name": "stdout"
        }
      ]
    },
    {
      "cell_type": "markdown",
      "metadata": {
        "id": "NyTe-W8sOf07"
      },
      "source": [
        "The model's validation accuracy is okay at 77%.  We will now see if the TfidfVectorizer method works better."
      ]
    },
    {
      "cell_type": "markdown",
      "metadata": {
        "id": "HleYGwZfyQtu"
      },
      "source": [
        "## d. TfidfVectorizer Model"
      ]
    },
    {
      "cell_type": "markdown",
      "metadata": {
        "id": "UppBDosoyhc2"
      },
      "source": [
        "### Splitting Data into Training, Validation and Testing"
      ]
    },
    {
      "cell_type": "markdown",
      "metadata": {
        "id": "odTvtu_1ylFd"
      },
      "source": [
        "We want to split our data into three groups: training, validation and test.  We want 35% of our data to be training, 35% to be validation and 30% to be test data.\n",
        "\n",
        "To do this we will first split our data into 30% test and 70% other."
      ]
    },
    {
      "cell_type": "code",
      "metadata": {
        "colab": {
          "base_uri": "https://localhost:8080/"
        },
        "id": "It2pDcA9yV8S",
        "outputId": "cd46d902-ef42-4409-8599-2e5a1c6b62fb"
      },
      "source": [
        "tfData = tfData.toarray()   # Converting the dependent data to a regular numpy array for the neural network\n",
        "tfData"
      ],
      "execution_count": null,
      "outputs": [
        {
          "output_type": "execute_result",
          "data": {
            "text/plain": [
              "array([[0., 0., 0., ..., 0., 0., 0.],\n",
              "       [0., 0., 0., ..., 0., 0., 0.],\n",
              "       [0., 0., 0., ..., 0., 0., 0.],\n",
              "       ...,\n",
              "       [0., 0., 0., ..., 0., 0., 0.],\n",
              "       [0., 0., 0., ..., 0., 0., 0.],\n",
              "       [0., 0., 0., ..., 0., 0., 0.]])"
            ]
          },
          "metadata": {
            "tags": []
          },
          "execution_count": 43
        }
      ]
    },
    {
      "cell_type": "code",
      "metadata": {
        "id": "TNyAoDn6yrnh"
      },
      "source": [
        "# Splitting into 30% actual test data and 70% \"train\" data that we will split below into the actual train data and validation data.\n",
        "# We are stratifying our data so that train, validation and test will all have equal proportions of each class.\n",
        "x_train, x_test, y_train, y_test = train_test_split(tfData, y, test_size=0.3, stratify=y, random_state=1)"
      ],
      "execution_count": null,
      "outputs": []
    },
    {
      "cell_type": "markdown",
      "metadata": {
        "id": "DFBSSuFjPDEm"
      },
      "source": [
        "**SMOTE - Oversampling of the data**\n",
        "\n",
        "We will use the SMOTE function to upsample the `neutral` and `positive` tweets so they have the same number of tweets as the `negative` class.  This will help our model be able to identify each class well instead of only the dominant `negative` class."
      ]
    },
    {
      "cell_type": "code",
      "metadata": {
        "colab": {
          "base_uri": "https://localhost:8080/"
        },
        "id": "8U1k3xkI3ZJx",
        "outputId": "56e86236-aab3-426f-9c65-232e55d3df4c"
      },
      "source": [
        "sm = SMOTE(k_neighbors = 5, random_state=1)   #Synthetic Minority Over Sampling Technique\n",
        "x_train, y_train = sm.fit_resample(x_train, y_train)    # fitting the SMOTE algorithm to the data"
      ],
      "execution_count": null,
      "outputs": [
        {
          "output_type": "stream",
          "text": [
            "/usr/local/lib/python3.7/dist-packages/sklearn/utils/deprecation.py:87: FutureWarning: Function safe_indexing is deprecated; safe_indexing is deprecated in version 0.22 and will be removed in version 0.24.\n",
            "  warnings.warn(msg, category=FutureWarning)\n",
            "/usr/local/lib/python3.7/dist-packages/sklearn/utils/deprecation.py:87: FutureWarning: Function safe_indexing is deprecated; safe_indexing is deprecated in version 0.22 and will be removed in version 0.24.\n",
            "  warnings.warn(msg, category=FutureWarning)\n"
          ],
          "name": "stderr"
        }
      ]
    },
    {
      "cell_type": "code",
      "metadata": {
        "id": "fUi7J0YRyu5Y"
      },
      "source": [
        "# Splitting the rest of the data into equal parts training and validation.\n",
        "# Again we are stratifying our data to have equal proportions of each class.\n",
        "x_train, x_val, y_train, y_val = train_test_split(x_train, y_train, test_size=0.5, stratify=y_train, random_state=1)"
      ],
      "execution_count": null,
      "outputs": []
    },
    {
      "cell_type": "code",
      "metadata": {
        "id": "XGV5K82lyy4x",
        "colab": {
          "base_uri": "https://localhost:8080/"
        },
        "outputId": "534933cb-d1ef-4865-ad74-6d03cc4a4def"
      },
      "source": [
        "# Printing the shape of our independent data\n",
        "print(\"x_train shape:\", x_train.shape)\n",
        "print(\"x_val shape:\", x_val.shape)\n",
        "print(\"x_test shape:\", x_test.shape)\n",
        "print()\n",
        "\n",
        "# Printing the shape of our dependent data\n",
        "print(\"y_train shape:\", y_train.shape)\n",
        "print(\"y_val shape:\", y_val.shape)\n",
        "print(\"y_test shape:\", y_test.shape)"
      ],
      "execution_count": null,
      "outputs": [
        {
          "output_type": "stream",
          "text": [
            "x_train shape: (9637, 3000)\n",
            "x_val shape: (9638, 3000)\n",
            "x_test shape: (4392, 3000)\n",
            "\n",
            "y_train shape: (9637, 3)\n",
            "y_val shape: (9638, 3)\n",
            "y_test shape: (4392, 3)\n"
          ],
          "name": "stdout"
        }
      ]
    },
    {
      "cell_type": "markdown",
      "metadata": {
        "id": "2y7Wn2hHy_5k"
      },
      "source": [
        "### Grid Search Parameters"
      ]
    },
    {
      "cell_type": "markdown",
      "metadata": {
        "id": "Mw314EuDy_5l"
      },
      "source": [
        "Grid search is a time intensive process.  The more hyperparameters which are tuned and the greater the number of options we give for each hyperparameter the more combinations we have to train.  Below we have chosen to tune some of the hyperparameters yielding 48 different combinations to train with."
      ]
    },
    {
      "cell_type": "code",
      "metadata": {
        "id": "9KrucPSXy_5l"
      },
      "source": [
        "# The options for the number of dense layers\n",
        "numDenseLayers = [1, 2, 3, 4]\n",
        "\n",
        "# The options for the number of neurons in each dense layer\n",
        "unitsANN = [[64, 64, 64, 64],\n",
        "            [8, 16, 32, 64],\n",
        "            [16, 32, 64, 128],\n",
        "            [32, 32, 32, 32],]\n",
        "\n",
        "# The options for the dropout values for each dense layer\n",
        "dropout = [0.5, 0.3, 0.1]"
      ],
      "execution_count": null,
      "outputs": []
    },
    {
      "cell_type": "markdown",
      "metadata": {
        "id": "XuELLW5lzJZs"
      },
      "source": [
        "### Fitting the TfidfVectorizer Model"
      ]
    },
    {
      "cell_type": "markdown",
      "metadata": {
        "id": "ng1ajeS0zJZs"
      },
      "source": [
        "We now will loop through the different combinations of hyperparameters and fit the model.  We will also employ two Keras callbacks:\n",
        "- EarlyStopping: stops the training process when the current model has not improved for a given number of epochs\n",
        "- ModelCheckpoint: saves the best version of the current model at each epoch\n",
        "\n",
        "We will also simply add on any new best models instead of starting over so as to retain the best model between CountVectorizer and TfidfVectorizer."
      ]
    },
    {
      "cell_type": "code",
      "metadata": {
        "colab": {
          "base_uri": "https://localhost:8080/"
        },
        "id": "9SaFK2yXzJZt",
        "outputId": "c14c4264-d2c4-4299-da2a-ee7f055c9bee"
      },
      "source": [
        "# Looping through the different hyperparameter options given above, fitting the model with each combination\n",
        "\n",
        "for dp in dropout:\n",
        "  for nd in numDenseLayers:\n",
        "    for ua in unitsANN:\n",
        "      # Building the current model with a combination of hyperparameters using our custom function\n",
        "      model = buildSequential(nd, ua, dp)\n",
        "\n",
        "      # Setting the early stopping callback to stop training when the validation loss has not improved after 10 epochs\n",
        "      early_stopping = EarlyStopping(monitor=\"val_loss\", min_delta=0.001, patience=10)\n",
        "\n",
        "      # Setting the model checkpoint to save the weights of the current model when the validation loss has improved\n",
        "      model_checkpoint = ModelCheckpoint(filepath= \"model_\" + str(i) + \".h5\",\n",
        "                          monitor = \"val_loss\",\n",
        "                          verbose = 0,\n",
        "                          save_best_only = True,\n",
        "                          save_weights_only = True,\n",
        "                          mode = \"auto\",\n",
        "                          save_freq = \"epoch\")\n",
        "\n",
        "      # Training the model with 32 batches and 100 epochs\n",
        "      # The training will probably stop each time before 100 epochs based on the early stopping callback\n",
        "      # Using x_val and y_val as the validation data\n",
        "      model.fit(x = x_train,\n",
        "                y = y_train,\n",
        "                batch_size=50,\n",
        "                epochs=100,\n",
        "                verbose=0,\n",
        "                validation_data=(x_val, y_val),\n",
        "                callbacks=[early_stopping, model_checkpoint])\n",
        "      \n",
        "      # Loading the weights of the current model saved from its best version\n",
        "      # The best version of the current model has the lowest validation loss\n",
        "      model.load_weights(filepath=\"model_\" + str(i) + \".h5\")\n",
        "      \n",
        "      # Calculating the validation loss and accuracy for the best version of the current model\n",
        "      valLoss, valAcc = model.evaluate(x=x_val, y=y_val)\n",
        "\n",
        "      # If the validation loss of the current model is better than all other previous models...\n",
        "      if valLoss < bestValLoss:\n",
        "        bestModelNumber = i                                     # Store the current model number\n",
        "        bestValLoss = valLoss                                   # Store the current model validation score as the best\n",
        "        bestParameters = [nd, ua, dp]   # Store the current model hyperparameters as the best\n",
        "        bestModel = model                                       # Store the current model as the best\n",
        "\n",
        "      # Displaying the finished model number and it's validation loss and accuracy\n",
        "      print(\"Model\", i, \" finished with validation loss of\", valLoss, \"and validation accuracy of\", valAcc)\n",
        "\n",
        "      # Increasing the model number by one for the next model\n",
        "      i += 1\n",
        "\n",
        "      # Clearing up memory (RAM)\n",
        "      backend.clear_session()"
      ],
      "execution_count": null,
      "outputs": [
        {
          "output_type": "stream",
          "text": [
            "302/302 [==============================] - 1s 2ms/step - loss: 0.3913 - accuracy: 0.8571\n",
            "Model 48  finished with validation loss of 0.39129844307899475 and validation accuracy of 0.8571280241012573\n",
            "302/302 [==============================] - 0s 1ms/step - loss: 0.4023 - accuracy: 0.8555\n",
            "Model 49  finished with validation loss of 0.4023299813270569 and validation accuracy of 0.8554679155349731\n",
            "302/302 [==============================] - 0s 1ms/step - loss: 0.3945 - accuracy: 0.8562\n",
            "Model 50  finished with validation loss of 0.39450666308403015 and validation accuracy of 0.856194257736206\n",
            "302/302 [==============================] - 1s 2ms/step - loss: 0.3974 - accuracy: 0.8529\n",
            "Model 51  finished with validation loss of 0.39740225672721863 and validation accuracy of 0.8528740406036377\n",
            "302/302 [==============================] - 1s 2ms/step - loss: 0.3944 - accuracy: 0.8593\n",
            "Model 52  finished with validation loss of 0.39435669779777527 and validation accuracy of 0.8593069314956665\n",
            "302/302 [==============================] - 0s 1ms/step - loss: 0.4797 - accuracy: 0.8375\n",
            "Model 53  finished with validation loss of 0.4797327220439911 and validation accuracy of 0.8375181555747986\n",
            "302/302 [==============================] - 0s 2ms/step - loss: 0.3978 - accuracy: 0.8580\n",
            "Model 54  finished with validation loss of 0.3978063464164734 and validation accuracy of 0.8579580783843994\n",
            "302/302 [==============================] - 1s 2ms/step - loss: 0.3963 - accuracy: 0.8571\n",
            "Model 55  finished with validation loss of 0.3962900936603546 and validation accuracy of 0.8571280241012573\n",
            "302/302 [==============================] - 1s 2ms/step - loss: 0.3973 - accuracy: 0.8620\n",
            "Model 56  finished with validation loss of 0.39733076095581055 and validation accuracy of 0.8620045781135559\n",
            "302/302 [==============================] - 0s 1ms/step - loss: 0.4750 - accuracy: 0.8426\n",
            "Model 57  finished with validation loss of 0.475017249584198 and validation accuracy of 0.8426021933555603\n",
            "302/302 [==============================] - 0s 2ms/step - loss: 0.4282 - accuracy: 0.8556\n",
            "Model 58  finished with validation loss of 0.42822909355163574 and validation accuracy of 0.8555716872215271\n",
            "302/302 [==============================] - 1s 2ms/step - loss: 0.4195 - accuracy: 0.8659\n",
            "Model 59  finished with validation loss of 0.4195047914981842 and validation accuracy of 0.8659473061561584\n",
            "302/302 [==============================] - 1s 2ms/step - loss: 0.4133 - accuracy: 0.8741\n",
            "Model 60  finished with validation loss of 0.4133024513721466 and validation accuracy of 0.8741440176963806\n",
            "302/302 [==============================] - 1s 2ms/step - loss: 0.4821 - accuracy: 0.8432\n",
            "Model 61  finished with validation loss of 0.482110857963562 and validation accuracy of 0.8432247638702393\n",
            "302/302 [==============================] - 0s 2ms/step - loss: 0.4294 - accuracy: 0.8566\n",
            "Model 62  finished with validation loss of 0.42943647503852844 and validation accuracy of 0.8566092252731323\n",
            "302/302 [==============================] - 0s 2ms/step - loss: 0.4840 - accuracy: 0.8534\n",
            "Model 63  finished with validation loss of 0.4840281307697296 and validation accuracy of 0.8533928394317627\n",
            "302/302 [==============================] - 1s 2ms/step - loss: 0.3973 - accuracy: 0.8551\n",
            "Model 64  finished with validation loss of 0.39734601974487305 and validation accuracy of 0.8550528883934021\n",
            "302/302 [==============================] - 0s 1ms/step - loss: 0.3949 - accuracy: 0.8573\n",
            "Model 65  finished with validation loss of 0.3949348032474518 and validation accuracy of 0.8573355674743652\n",
            "302/302 [==============================] - 0s 1ms/step - loss: 0.4033 - accuracy: 0.8524\n",
            "Model 66  finished with validation loss of 0.40328913927078247 and validation accuracy of 0.8523552417755127\n",
            "302/302 [==============================] - 1s 2ms/step - loss: 0.3963 - accuracy: 0.8555\n",
            "Model 67  finished with validation loss of 0.3963327407836914 and validation accuracy of 0.8554679155349731\n",
            "302/302 [==============================] - 1s 2ms/step - loss: 0.3941 - accuracy: 0.8589\n",
            "Model 68  finished with validation loss of 0.39413297176361084 and validation accuracy of 0.8588919043540955\n",
            "302/302 [==============================] - 0s 2ms/step - loss: 0.4100 - accuracy: 0.8520\n",
            "Model 69  finished with validation loss of 0.41004323959350586 and validation accuracy of 0.8520439863204956\n",
            "302/302 [==============================] - 1s 2ms/step - loss: 0.4034 - accuracy: 0.8553\n",
            "Model 70  finished with validation loss of 0.40336912870407104 and validation accuracy of 0.85526043176651\n",
            "302/302 [==============================] - 1s 2ms/step - loss: 0.3973 - accuracy: 0.8549\n",
            "Model 71  finished with validation loss of 0.3973163664340973 and validation accuracy of 0.8549491763114929\n",
            "302/302 [==============================] - 1s 2ms/step - loss: 0.3889 - accuracy: 0.8653\n",
            "Model 72  finished with validation loss of 0.38890406489372253 and validation accuracy of 0.8653247356414795\n",
            "302/302 [==============================] - 1s 2ms/step - loss: 0.4398 - accuracy: 0.8470\n",
            "Model 73  finished with validation loss of 0.4397675395011902 and validation accuracy of 0.8469599485397339\n",
            "302/302 [==============================] - 1s 2ms/step - loss: 0.4205 - accuracy: 0.8619\n",
            "Model 74  finished with validation loss of 0.4204701781272888 and validation accuracy of 0.861900806427002\n",
            "302/302 [==============================] - 1s 2ms/step - loss: 0.4072 - accuracy: 0.8636\n",
            "Model 75  finished with validation loss of 0.4071657657623291 and validation accuracy of 0.8635609149932861\n",
            "302/302 [==============================] - 1s 2ms/step - loss: 0.3997 - accuracy: 0.8685\n",
            "Model 76  finished with validation loss of 0.39966756105422974 and validation accuracy of 0.8685411810874939\n",
            "302/302 [==============================] - 1s 2ms/step - loss: 0.4566 - accuracy: 0.8382\n",
            "Model 77  finished with validation loss of 0.4566463232040405 and validation accuracy of 0.8382444381713867\n",
            "302/302 [==============================] - 1s 2ms/step - loss: 0.4160 - accuracy: 0.8603\n",
            "Model 78  finished with validation loss of 0.41599389910697937 and validation accuracy of 0.8603444695472717\n",
            "302/302 [==============================] - 1s 2ms/step - loss: 0.4179 - accuracy: 0.8615\n",
            "Model 79  finished with validation loss of 0.4178718030452728 and validation accuracy of 0.8614857792854309\n",
            "302/302 [==============================] - 1s 2ms/step - loss: 0.4022 - accuracy: 0.8517\n",
            "Model 80  finished with validation loss of 0.40218496322631836 and validation accuracy of 0.8517327308654785\n",
            "302/302 [==============================] - 0s 1ms/step - loss: 0.3957 - accuracy: 0.8532\n",
            "Model 81  finished with validation loss of 0.39570385217666626 and validation accuracy of 0.8531852960586548\n",
            "302/302 [==============================] - 0s 1ms/step - loss: 0.3977 - accuracy: 0.8520\n",
            "Model 82  finished with validation loss of 0.3976837396621704 and validation accuracy of 0.8520439863204956\n",
            "302/302 [==============================] - 0s 2ms/step - loss: 0.4010 - accuracy: 0.8526\n",
            "Model 83  finished with validation loss of 0.4010365903377533 and validation accuracy of 0.8525627851486206\n",
            "302/302 [==============================] - 1s 2ms/step - loss: 0.4070 - accuracy: 0.8565\n",
            "Model 84  finished with validation loss of 0.4070340692996979 and validation accuracy of 0.8565055131912231\n",
            "302/302 [==============================] - 1s 2ms/step - loss: 0.4050 - accuracy: 0.8541\n",
            "Model 85  finished with validation loss of 0.4049520492553711 and validation accuracy of 0.8541191220283508\n",
            "302/302 [==============================] - 0s 2ms/step - loss: 0.4035 - accuracy: 0.8521\n",
            "Model 86  finished with validation loss of 0.4034573435783386 and validation accuracy of 0.8521477580070496\n",
            "302/302 [==============================] - 1s 2ms/step - loss: 0.4105 - accuracy: 0.8484\n",
            "Model 87  finished with validation loss of 0.41049134731292725 and validation accuracy of 0.8484125137329102\n",
            "302/302 [==============================] - 1s 2ms/step - loss: 0.3898 - accuracy: 0.8586\n",
            "Model 88  finished with validation loss of 0.38980528712272644 and validation accuracy of 0.8585805892944336\n",
            "302/302 [==============================] - 0s 2ms/step - loss: 0.4142 - accuracy: 0.8490\n",
            "Model 89  finished with validation loss of 0.4141908586025238 and validation accuracy of 0.8490350842475891\n",
            "302/302 [==============================] - 0s 2ms/step - loss: 0.4090 - accuracy: 0.8555\n",
            "Model 90  finished with validation loss of 0.40900158882141113 and validation accuracy of 0.8554679155349731\n",
            "302/302 [==============================] - 1s 2ms/step - loss: 0.4023 - accuracy: 0.8570\n",
            "Model 91  finished with validation loss of 0.40234676003456116 and validation accuracy of 0.8570242524147034\n",
            "302/302 [==============================] - 1s 2ms/step - loss: 0.3919 - accuracy: 0.8595\n",
            "Model 92  finished with validation loss of 0.39187854528427124 and validation accuracy of 0.8595144152641296\n",
            "302/302 [==============================] - 1s 2ms/step - loss: 0.4260 - accuracy: 0.8470\n",
            "Model 93  finished with validation loss of 0.4260319769382477 and validation accuracy of 0.8469599485397339\n",
            "302/302 [==============================] - 1s 2ms/step - loss: 0.4346 - accuracy: 0.8499\n",
            "Model 94  finished with validation loss of 0.4346442222595215 and validation accuracy of 0.8498651385307312\n",
            "302/302 [==============================] - 1s 2ms/step - loss: 0.4219 - accuracy: 0.8538\n",
            "Model 95  finished with validation loss of 0.4218806028366089 and validation accuracy of 0.8538078665733337\n"
          ],
          "name": "stdout"
        }
      ]
    },
    {
      "cell_type": "code",
      "metadata": {
        "colab": {
          "base_uri": "https://localhost:8080/"
        },
        "id": "O_qAO_tRzJZu",
        "outputId": "36c1ec18-e152-47d0-b165-82c636d0359f"
      },
      "source": [
        "# Printing which model performed best\n",
        "print(\"Best Model Number:\", bestModelNumber)\n",
        "print(\"Best Model Validation Loss\", bestValLoss)"
      ],
      "execution_count": null,
      "outputs": [
        {
          "output_type": "stream",
          "text": [
            "Best Model Number: 72\n",
            "Best Model Validation Loss 0.38890406489372253\n"
          ],
          "name": "stdout"
        }
      ]
    },
    {
      "cell_type": "code",
      "metadata": {
        "colab": {
          "base_uri": "https://localhost:8080/"
        },
        "id": "AKNJ8WEFEI6k",
        "outputId": "eca2faab-f57f-4435-b10c-2c5c495080dd"
      },
      "source": [
        "# Printing the best parameters\n",
        "bestParameters"
      ],
      "execution_count": null,
      "outputs": [
        {
          "output_type": "execute_result",
          "data": {
            "text/plain": [
              "[3, [64, 64, 64, 64], 0.3]"
            ]
          },
          "metadata": {
            "tags": []
          },
          "execution_count": 51
        }
      ]
    },
    {
      "cell_type": "markdown",
      "metadata": {
        "id": "1hlGDnMlEOqX"
      },
      "source": [
        "The best model has the following hyperparameters:\n",
        "- Number of dense layers: 3 with 1 additional softmax layer\n",
        "- Number of neurons: 64, 64\n",
        "- Dropout rate: 0.3"
      ]
    },
    {
      "cell_type": "code",
      "metadata": {
        "id": "xn8KOq8fEKvA"
      },
      "source": [
        "# Rebuilding the best model with the using the best parameters\n",
        "bestModel = buildSequential(bestParameters[0],\n",
        "                            bestParameters[1],\n",
        "                            bestParameters[2],)\n",
        "\n",
        "# Loading the weights for the best model that were saved by the checkpoint\n",
        "bestModel.load_weights(\"model_\" + str(bestModelNumber) + \".h5\")"
      ],
      "execution_count": null,
      "outputs": []
    },
    {
      "cell_type": "code",
      "metadata": {
        "colab": {
          "base_uri": "https://localhost:8080/"
        },
        "id": "1HTx1JXTETlH",
        "outputId": "9e3a35d2-56c4-40be-b5cf-6876e1011c65"
      },
      "source": [
        "# Printing the best model's validation accuracy\n",
        "print(\"Best Model Validation Accuracy:\", bestModel.evaluate(x=x_val, y=y_val)[1])"
      ],
      "execution_count": null,
      "outputs": [
        {
          "output_type": "stream",
          "text": [
            "302/302 [==============================] - 1s 2ms/step - loss: 0.3889 - accuracy: 0.8653\n",
            "Best Model Validation Accuracy: 0.8653247356414795\n"
          ],
          "name": "stdout"
        }
      ]
    },
    {
      "cell_type": "markdown",
      "metadata": {
        "id": "wBhKXq93PmB9"
      },
      "source": [
        "The validation accuracy of our TfidfVectorizer model is significantly better than the CountVectorizer model at 86.5%.  This will be our best model that we keep."
      ]
    },
    {
      "cell_type": "markdown",
      "metadata": {
        "id": "yftDgalrsC9u"
      },
      "source": [
        "# 6. Summary and Model Evaluation"
      ]
    },
    {
      "cell_type": "markdown",
      "metadata": {
        "id": "i19gUX8wsV-9"
      },
      "source": [
        "## Model Evaluation"
      ]
    },
    {
      "cell_type": "code",
      "metadata": {
        "colab": {
          "base_uri": "https://localhost:8080/"
        },
        "id": "LUYaF7CuscAV",
        "outputId": "678aa40f-cf46-4bdd-c766-347bd06ec5ea"
      },
      "source": [
        "# Using the best model to predict the test set\n",
        "y_pred = np.argmax(bestModel.predict(x=x_test), axis=1)\n",
        "y_pred"
      ],
      "execution_count": null,
      "outputs": [
        {
          "output_type": "execute_result",
          "data": {
            "text/plain": [
              "array([0, 0, 0, ..., 2, 0, 0])"
            ]
          },
          "metadata": {
            "tags": []
          },
          "execution_count": 59
        }
      ]
    },
    {
      "cell_type": "code",
      "metadata": {
        "colab": {
          "base_uri": "https://localhost:8080/"
        },
        "id": "vIA4j4WGtkDo",
        "outputId": "907102c3-885c-4830-cb71-3f11cd3e2263"
      },
      "source": [
        "# Creating a dictionary to reverse the encoding done to our target variable\n",
        "ivd = {v: k for k, v in sentimentDict.items()}\n",
        "ivd"
      ],
      "execution_count": null,
      "outputs": [
        {
          "output_type": "execute_result",
          "data": {
            "text/plain": [
              "{0: 'negative', 1: 'neutral', 2: 'positive'}"
            ]
          },
          "metadata": {
            "tags": []
          },
          "execution_count": 60
        }
      ]
    },
    {
      "cell_type": "code",
      "metadata": {
        "colab": {
          "base_uri": "https://localhost:8080/",
          "height": 338
        },
        "id": "65dkL6v_sef1",
        "outputId": "8ea293c6-0e0d-488c-966a-93e06d5a4560"
      },
      "source": [
        "# Creating a confusion matrix for the test data of our best model\n",
        "cm = confusion_matrix(y_true=np.argmax(y_test, axis=1), y_pred=y_pred)\n",
        "\n",
        "#plt.figure(figsize=(15,10))                   # Increasing the size of the confusion matrix\n",
        "sns.heatmap(data=cm, annot=True, fmt=\".0f\")   # Plotting the confusion matrix as a heatmap\n",
        "\n",
        "plt.xlabel(\"Predicted Label\", fontsize=14)    # Labeling the predicted axis\n",
        "plt.ylabel(\"Actual Label\", fontsize=14)       # Labeling the true axis\n",
        "\n",
        "plt.xticks(ticks=np.arange(0,3), labels=list(ivd.values()), rotation=45)        # Placing the sentiment class names\n",
        "plt.yticks(ticks=np.arange(0,3), labels=list(ivd.values()), rotation=45)        # Placing the sentiment class names\n",
        "\n",
        "plt.title(\"Confusion Matrix for Best Model\", fontsize=20)   # Adding a title\n",
        "plt.show()"
      ],
      "execution_count": null,
      "outputs": [
        {
          "output_type": "display_data",
          "data": {
            "image/png": "[encoded data removed]",
            "text/plain": [
              "<Figure size 432x288 with 2 Axes>"
            ]
          },
          "metadata": {
            "tags": []
          }
        }
      ]
    },
    {
      "cell_type": "code",
      "metadata": {
        "colab": {
          "base_uri": "https://localhost:8080/"
        },
        "id": "_uj_0LPEtsTC",
        "outputId": "7fad3844-72d4-480f-ee01-9edb854c3406"
      },
      "source": [
        "# Displaying the classification report with the test data\n",
        "print(classification_report(y_true=[ivd[x] for x in np.argmax(y_test, axis=1)], y_pred=[ivd[x] for x in y_pred]))"
      ],
      "execution_count": null,
      "outputs": [
        {
          "output_type": "stream",
          "text": [
            "              precision    recall  f1-score   support\n",
            "\n",
            "    negative       0.87      0.83      0.85      2753\n",
            "     neutral       0.56      0.60      0.58       930\n",
            "    positive       0.65      0.71      0.68       709\n",
            "\n",
            "    accuracy                           0.76      4392\n",
            "   macro avg       0.70      0.71      0.70      4392\n",
            "weighted avg       0.77      0.76      0.77      4392\n",
            "\n"
          ],
          "name": "stdout"
        }
      ]
    },
    {
      "cell_type": "markdown",
      "metadata": {
        "id": "isCJbpamQDG4"
      },
      "source": [
        "From the above confusion matrix and classification report the model performs best when identifying negative tweets and least well when identifying neutral tweets.  On average, if the model mis-identifies a neutral tweet it classifies the tweet as negative three times as often as positive.  Thus, our model could be said to be more conservative in nature by erring on the safe side and moving tweets it is less sure of towards the negative end of the spectrum.  This way, if a problem is arising for an airline on Twitter the company will have less negative reviews slip through their screening."
      ]
    },
    {
      "cell_type": "code",
      "metadata": {
        "colab": {
          "base_uri": "https://localhost:8080/"
        },
        "id": "zGz3zAirs518",
        "outputId": "47a530d7-2a3a-4ebb-dfa6-0cb13f8d0eb1"
      },
      "source": [
        "# Printing the best model's test accuracy\n",
        "print(\"Best Model Test Accuracy:\", bestModel.evaluate(x=x_test, y=y_test)[1])"
      ],
      "execution_count": null,
      "outputs": [
        {
          "output_type": "stream",
          "text": [
            "138/138 [==============================] - 0s 2ms/step - loss: 0.6949 - accuracy: 0.7623\n",
            "Best Model Test Accuracy: 0.7622950673103333\n"
          ],
          "name": "stdout"
        }
      ]
    },
    {
      "cell_type": "markdown",
      "metadata": {
        "id": "6RM8UVh4RpTC"
      },
      "source": [
        "The test accuracy shows that our model is overfit somewhat since the validation accuracy is greater than the test accuracy."
      ]
    },
    {
      "cell_type": "markdown",
      "metadata": {
        "id": "-6uMSDz5Sri6"
      },
      "source": [
        "## Summary\n",
        "\n"
      ]
    },
    {
      "cell_type": "markdown",
      "metadata": {
        "id": "IWVNPWKsTgsR"
      },
      "source": [
        "To build this model we employed several preprocessing steps in order to clean the data.  Without cleaning the text data our model would not be able to generalize and train on the tweets. These were:\n",
        "- HTML tag removal: eliminated HTML tags from the text\n",
        "- Contraction removal: converted words such as can't into can not to reduce the dimensionality of our data\n",
        "- Tokenization: split each tweet into individual words which will be used later as features for our model to learn from\n",
        "- Number removal: removed numbers such as 10,000 from the text as the scale of the numbers should not affect this model\n",
        "- Special character removal: converted any characters such as é to their nearest english equivalent\n",
        "- Punctuation removal: eliminated punctuation from our model to employ a bag of words approach\n",
        "  - This does remove some contextual meaning from the data however it does reduce the dimensionality of the data and is not usually helpful to the model\n",
        "- Stop word removal: removed words that do not carry actual information from the text, such as \"the\" and \"as\"\n",
        "- Conversion to lowercase: converted all characters to lowercase so that \"The\" and \"the\" will be the same word instead of two different words\n",
        "- Lemmatize: reduced all words to a root word that is present in the dictionary striving to reduce the dimensionality of the text and get to the actual meaning of each word in the text\n",
        "  - i.e. roots becomes root\n",
        "- Joining the words back together: simply turned the list of separate words back into a continuous string for the vectorizing functions to operate on"
      ]
    },
    {
      "cell_type": "markdown",
      "metadata": {
        "id": "2fUqDfqiWn7q"
      },
      "source": [
        "We also used two different types of word vectorization: CountVectorizer and TfidfVectorizer.  Vectorizing the text data converts words into individual vectors or features for our model to train with.  In each case we set the maximum number of features (or words) to the 3000 highest weight words as to reduce training time and to have less features than the number of tweets our dataset has.  The two vectorization methods work by:\n",
        "- CountVectorizer\n",
        "  - Counting the frequency of each word present in a given tweet\n",
        "  - Assigning that frequency as the weight of the word for that particular tweet\n",
        "  - Normalizing the weights by dividing each weight by the maximum weight so they range from 0 to 1\n",
        "  - The weights of words do not take into account other tweets (documents)\n",
        "- TfidfVectorizer\n",
        "  - Counting the frequency of each word present in a tweet\n",
        "  - Dividing that count by the total number of words in that tweet\n",
        "    - This is known as the term frequency\n",
        "  - Counting how many documents (tweets) each word is present in\n",
        "  - Dividing the total number of documents (tweets) by the previous count\n",
        "  - Applying a logrithmic scale to the previous division\n",
        "    - This is known as the inverse document frequency\n",
        "  - Multiplying the term frequency by the inverse document frequency\n",
        "    - This lowers the importance (weights) of words which appear in most of the documents while increasing the importance (weights) of words which appear in only a few of the documents"
      ]
    }
  ]
}